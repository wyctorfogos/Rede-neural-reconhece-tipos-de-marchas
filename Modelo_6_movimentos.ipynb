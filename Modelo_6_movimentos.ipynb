{
 "cells": [
  {
   "cell_type": "code",
   "execution_count": 1,
   "metadata": {
    "scrolled": true
   },
   "outputs": [
    {
     "name": "stdout",
     "output_type": "stream",
     "text": [
      "Requirement already satisfied: tensorflow-gpu in /usr/local/lib/python3.6/dist-packages (2.3.0)\n",
      "Requirement already satisfied: numpy<1.19.0,>=1.16.0 in /usr/local/lib/python3.6/dist-packages (from tensorflow-gpu) (1.18.5)\n",
      "Requirement already satisfied: wheel>=0.26 in /usr/lib/python3/dist-packages (from tensorflow-gpu) (0.30.0)\n",
      "Requirement already satisfied: termcolor>=1.1.0 in /usr/local/lib/python3.6/dist-packages (from tensorflow-gpu) (1.1.0)\n",
      "Requirement already satisfied: opt-einsum>=2.3.2 in /usr/local/lib/python3.6/dist-packages (from tensorflow-gpu) (3.3.0)\n",
      "Requirement already satisfied: protobuf>=3.9.2 in /usr/local/lib/python3.6/dist-packages (from tensorflow-gpu) (3.12.2)\n",
      "Requirement already satisfied: tensorboard<3,>=2.3.0 in /usr/local/lib/python3.6/dist-packages (from tensorflow-gpu) (2.3.0)\n",
      "Requirement already satisfied: grpcio>=1.8.6 in /usr/local/lib/python3.6/dist-packages (from tensorflow-gpu) (1.30.0)\n",
      "Requirement already satisfied: absl-py>=0.7.0 in /usr/local/lib/python3.6/dist-packages (from tensorflow-gpu) (0.9.0)\n",
      "Requirement already satisfied: h5py<2.11.0,>=2.10.0 in /usr/local/lib/python3.6/dist-packages (from tensorflow-gpu) (2.10.0)\n",
      "Requirement already satisfied: google-pasta>=0.1.8 in /usr/local/lib/python3.6/dist-packages (from tensorflow-gpu) (0.2.0)\n",
      "Requirement already satisfied: gast==0.3.3 in /usr/local/lib/python3.6/dist-packages (from tensorflow-gpu) (0.3.3)\n",
      "Requirement already satisfied: astunparse==1.6.3 in /usr/local/lib/python3.6/dist-packages (from tensorflow-gpu) (1.6.3)\n",
      "Requirement already satisfied: tensorflow-estimator<2.4.0,>=2.3.0 in /usr/local/lib/python3.6/dist-packages (from tensorflow-gpu) (2.3.0)\n",
      "Requirement already satisfied: wrapt>=1.11.1 in /usr/local/lib/python3.6/dist-packages (from tensorflow-gpu) (1.12.1)\n",
      "Requirement already satisfied: keras-preprocessing<1.2,>=1.1.1 in /usr/local/lib/python3.6/dist-packages (from tensorflow-gpu) (1.1.2)\n",
      "Requirement already satisfied: six>=1.12.0 in /usr/local/lib/python3.6/dist-packages (from tensorflow-gpu) (1.15.0)\n",
      "Requirement already satisfied: scipy==1.4.1 in /usr/local/lib/python3.6/dist-packages (from tensorflow-gpu) (1.4.1)\n",
      "Requirement already satisfied: setuptools in /usr/local/lib/python3.6/dist-packages (from protobuf>=3.9.2->tensorflow-gpu) (49.2.0)\n",
      "Requirement already satisfied: google-auth<2,>=1.6.3 in /usr/local/lib/python3.6/dist-packages (from tensorboard<3,>=2.3.0->tensorflow-gpu) (1.19.2)\n",
      "Requirement already satisfied: requests<3,>=2.21.0 in /usr/local/lib/python3.6/dist-packages (from tensorboard<3,>=2.3.0->tensorflow-gpu) (2.24.0)\n",
      "Requirement already satisfied: werkzeug>=0.11.15 in /usr/local/lib/python3.6/dist-packages (from tensorboard<3,>=2.3.0->tensorflow-gpu) (1.0.1)\n",
      "Requirement already satisfied: google-auth-oauthlib<0.5,>=0.4.1 in /usr/local/lib/python3.6/dist-packages (from tensorboard<3,>=2.3.0->tensorflow-gpu) (0.4.1)\n",
      "Requirement already satisfied: tensorboard-plugin-wit>=1.6.0 in /usr/local/lib/python3.6/dist-packages (from tensorboard<3,>=2.3.0->tensorflow-gpu) (1.7.0)\n",
      "Requirement already satisfied: markdown>=2.6.8 in /usr/local/lib/python3.6/dist-packages (from tensorboard<3,>=2.3.0->tensorflow-gpu) (3.2.2)\n",
      "Requirement already satisfied: cachetools<5.0,>=2.0.0 in /usr/local/lib/python3.6/dist-packages (from google-auth<2,>=1.6.3->tensorboard<3,>=2.3.0->tensorflow-gpu) (4.1.1)\n",
      "Requirement already satisfied: pyasn1-modules>=0.2.1 in /usr/local/lib/python3.6/dist-packages (from google-auth<2,>=1.6.3->tensorboard<3,>=2.3.0->tensorflow-gpu) (0.2.8)\n",
      "Requirement already satisfied: rsa<5,>=3.1.4; python_version >= \"3\" in /usr/local/lib/python3.6/dist-packages (from google-auth<2,>=1.6.3->tensorboard<3,>=2.3.0->tensorflow-gpu) (4.6)\n",
      "Requirement already satisfied: urllib3!=1.25.0,!=1.25.1,<1.26,>=1.21.1 in /usr/local/lib/python3.6/dist-packages (from requests<3,>=2.21.0->tensorboard<3,>=2.3.0->tensorflow-gpu) (1.25.10)\n",
      "Requirement already satisfied: idna<3,>=2.5 in /usr/lib/python3/dist-packages (from requests<3,>=2.21.0->tensorboard<3,>=2.3.0->tensorflow-gpu) (2.6)\n",
      "Requirement already satisfied: chardet<4,>=3.0.2 in /usr/local/lib/python3.6/dist-packages (from requests<3,>=2.21.0->tensorboard<3,>=2.3.0->tensorflow-gpu) (3.0.4)\n",
      "Requirement already satisfied: certifi>=2017.4.17 in /usr/local/lib/python3.6/dist-packages (from requests<3,>=2.21.0->tensorboard<3,>=2.3.0->tensorflow-gpu) (2020.6.20)\n",
      "Requirement already satisfied: requests-oauthlib>=0.7.0 in /usr/local/lib/python3.6/dist-packages (from google-auth-oauthlib<0.5,>=0.4.1->tensorboard<3,>=2.3.0->tensorflow-gpu) (1.3.0)\n",
      "Requirement already satisfied: importlib-metadata; python_version < \"3.8\" in /usr/local/lib/python3.6/dist-packages (from markdown>=2.6.8->tensorboard<3,>=2.3.0->tensorflow-gpu) (1.7.0)\n",
      "Requirement already satisfied: pyasn1<0.5.0,>=0.4.6 in /usr/local/lib/python3.6/dist-packages (from pyasn1-modules>=0.2.1->google-auth<2,>=1.6.3->tensorboard<3,>=2.3.0->tensorflow-gpu) (0.4.8)\n",
      "Requirement already satisfied: oauthlib>=3.0.0 in /usr/local/lib/python3.6/dist-packages (from requests-oauthlib>=0.7.0->google-auth-oauthlib<0.5,>=0.4.1->tensorboard<3,>=2.3.0->tensorflow-gpu) (3.1.0)\n",
      "Requirement already satisfied: zipp>=0.5 in /usr/local/lib/python3.6/dist-packages (from importlib-metadata; python_version < \"3.8\"->markdown>=2.6.8->tensorboard<3,>=2.3.0->tensorflow-gpu) (3.1.0)\n",
      "Note: you may need to restart the kernel to use updated packages.\n"
     ]
    }
   ],
   "source": [
    "pip install tensorflow-gpu"
   ]
  },
  {
   "cell_type": "code",
   "execution_count": 2,
   "metadata": {},
   "outputs": [
    {
     "name": "stdout",
     "output_type": "stream",
     "text": [
      "WARNING:tensorflow:From /usr/local/lib/python3.6/dist-packages/tensorflow/python/compat/v2_compat.py:96: disable_resource_variables (from tensorflow.python.ops.variable_scope) is deprecated and will be removed in a future version.\n",
      "Instructions for updating:\n",
      "non-resource variables are not supported in the long term\n",
      "Num GPUs Available:  1\n"
     ]
    }
   ],
   "source": [
    "import tensorflow.compat.v1 as tf\n",
    "tf.disable_v2_behavior()\n",
    "\n",
    "print(\"Num GPUs Available: \", len(tf.config.experimental.list_physical_devices('GPU')))"
   ]
  },
  {
   "cell_type": "code",
   "execution_count": 3,
   "metadata": {},
   "outputs": [],
   "source": [
    "from tensorflow.python.client import device_lib"
   ]
  },
  {
   "cell_type": "code",
   "execution_count": 4,
   "metadata": {},
   "outputs": [],
   "source": [
    "#print(device_lib.list_local_devices())\n"
   ]
  },
  {
   "cell_type": "code",
   "execution_count": 5,
   "metadata": {},
   "outputs": [],
   "source": [
    "#sess = tf.Session(config=tf.ConfigProto(allow_soft_placement=True,log_device_placement=True))"
   ]
  },
  {
   "cell_type": "code",
   "execution_count": 6,
   "metadata": {
    "scrolled": false
   },
   "outputs": [
    {
     "name": "stdout",
     "output_type": "stream",
     "text": [
      "Requirement already up-to-date: pip in /usr/local/lib/python3.6/dist-packages (20.2.4)\n",
      "Requirement already satisfied: pandas in /usr/local/lib/python3.6/dist-packages (1.1.4)\n",
      "Requirement already satisfied: as in /usr/local/lib/python3.6/dist-packages (0.1)\n",
      "Requirement already satisfied: pd in /usr/local/lib/python3.6/dist-packages (0.0.1)\n",
      "Requirement already satisfied: python-dateutil>=2.7.3 in /usr/local/lib/python3.6/dist-packages (from pandas) (2.8.1)\n",
      "Requirement already satisfied: pytz>=2017.2 in /usr/local/lib/python3.6/dist-packages (from pandas) (2020.4)\n",
      "Requirement already satisfied: numpy>=1.15.4 in /usr/local/lib/python3.6/dist-packages (from pandas) (1.18.5)\n",
      "Requirement already satisfied: six>=1.5 in /usr/local/lib/python3.6/dist-packages (from python-dateutil>=2.7.3->pandas) (1.15.0)\n",
      "Requirement already satisfied: numpy in /usr/local/lib/python3.6/dist-packages (1.18.5)\n",
      "Requirement already satisfied: as in /usr/local/lib/python3.6/dist-packages (0.1)\n",
      "Requirement already satisfied: np in /usr/local/lib/python3.6/dist-packages (1.0.2)\n",
      "Requirement already satisfied: keras in /usr/local/lib/python3.6/dist-packages (2.4.3)\n",
      "Requirement already satisfied: numpy>=1.9.1 in /usr/local/lib/python3.6/dist-packages (from keras) (1.18.5)\n",
      "Requirement already satisfied: scipy>=0.14 in /usr/local/lib/python3.6/dist-packages (from keras) (1.4.1)\n",
      "Requirement already satisfied: pyyaml in /usr/local/lib/python3.6/dist-packages (from keras) (5.3.1)\n",
      "Requirement already satisfied: h5py in /usr/local/lib/python3.6/dist-packages (from keras) (2.10.0)\n",
      "Requirement already satisfied: six in /usr/local/lib/python3.6/dist-packages (from h5py->keras) (1.15.0)\n"
     ]
    }
   ],
   "source": [
    "!pip install --upgrade pip\n",
    "!pip install pandas as pd\n",
    "!pip install numpy as np\n",
    "!pip install keras\n",
    "\n",
    "import tensorflow.compat.v1  as tf\n",
    "from tensorflow.keras.callbacks import TensorBoard\n",
    "import pandas as pd\n",
    "import matplotlib.pyplot as plt\n",
    "import datetime\n",
    "import os\n",
    "import keras\n",
    "\n"
   ]
  },
  {
   "cell_type": "code",
   "execution_count": 7,
   "metadata": {
    "scrolled": true
   },
   "outputs": [
    {
     "name": "stdout",
     "output_type": "stream",
     "text": [
      "Requirement already satisfied: imblearn in /usr/local/lib/python3.6/dist-packages (0.0)\n",
      "Requirement already satisfied: imbalanced-learn in /usr/local/lib/python3.6/dist-packages (from imblearn) (0.7.0)\n",
      "Requirement already satisfied: joblib>=0.11 in /usr/local/lib/python3.6/dist-packages (from imbalanced-learn->imblearn) (0.17.0)\n",
      "Requirement already satisfied: scikit-learn>=0.23 in /usr/local/lib/python3.6/dist-packages (from imbalanced-learn->imblearn) (0.23.2)\n",
      "Requirement already satisfied: numpy>=1.13.3 in /usr/local/lib/python3.6/dist-packages (from imbalanced-learn->imblearn) (1.18.5)\n",
      "Requirement already satisfied: scipy>=0.19.1 in /usr/local/lib/python3.6/dist-packages (from imbalanced-learn->imblearn) (1.4.1)\n",
      "Requirement already satisfied: threadpoolctl>=2.0.0 in /usr/local/lib/python3.6/dist-packages (from scikit-learn>=0.23->imbalanced-learn->imblearn) (2.1.0)\n",
      "Requirement already satisfied: seaborn in /usr/local/lib/python3.6/dist-packages (0.11.0)\n",
      "Requirement already satisfied: scipy>=1.0 in /usr/local/lib/python3.6/dist-packages (from seaborn) (1.4.1)\n",
      "Requirement already satisfied: numpy>=1.15 in /usr/local/lib/python3.6/dist-packages (from seaborn) (1.18.5)\n",
      "Requirement already satisfied: matplotlib>=2.2 in /usr/local/lib/python3.6/dist-packages (from seaborn) (3.3.0)\n",
      "Requirement already satisfied: pandas>=0.23 in /usr/local/lib/python3.6/dist-packages (from seaborn) (1.1.4)\n",
      "Requirement already satisfied: kiwisolver>=1.0.1 in /usr/local/lib/python3.6/dist-packages (from matplotlib>=2.2->seaborn) (1.2.0)\n",
      "Requirement already satisfied: pillow>=6.2.0 in /usr/local/lib/python3.6/dist-packages (from matplotlib>=2.2->seaborn) (7.2.0)\n",
      "Requirement already satisfied: pyparsing!=2.0.4,!=2.1.2,!=2.1.6,>=2.0.3 in /usr/local/lib/python3.6/dist-packages (from matplotlib>=2.2->seaborn) (2.4.7)\n",
      "Requirement already satisfied: cycler>=0.10 in /usr/local/lib/python3.6/dist-packages (from matplotlib>=2.2->seaborn) (0.10.0)\n",
      "Requirement already satisfied: python-dateutil>=2.1 in /usr/local/lib/python3.6/dist-packages (from matplotlib>=2.2->seaborn) (2.8.1)\n",
      "Requirement already satisfied: pytz>=2017.2 in /usr/local/lib/python3.6/dist-packages (from pandas>=0.23->seaborn) (2020.4)\n",
      "Requirement already satisfied: six in /usr/local/lib/python3.6/dist-packages (from cycler>=0.10->matplotlib>=2.2->seaborn) (1.15.0)\n"
     ]
    }
   ],
   "source": [
    "!pip install imblearn\n",
    "!pip install seaborn"
   ]
  },
  {
   "cell_type": "code",
   "execution_count": 8,
   "metadata": {},
   "outputs": [],
   "source": [
    "#gpu_options=tf.GPUOptions(per_process_gpu_memory_fraction=0.3333)]\n",
    "NUM_THREADS=6\n",
    "\n",
    "config = tf.ConfigProto(device_count = {'GPU': 65 , 'CPU': 40} ) #intra_op_parallelism_threads=NUM_THREADS)# \n",
    "sess = tf.Session(config=config) \n",
    "#sess = tf.Session(config=tf.ConfigProto(gpu_options=gpu_options)) \n",
    "tf.compat.v1.keras.backend.set_session(sess)"
   ]
  },
  {
   "cell_type": "code",
   "execution_count": 9,
   "metadata": {},
   "outputs": [],
   "source": [
    "!rm -rf ./logs/"
   ]
  },
  {
   "cell_type": "code",
   "execution_count": 10,
   "metadata": {
    "scrolled": true
   },
   "outputs": [],
   "source": [
    "data_train=pd.read_csv('/tf/tensorflow-tutorials/Modelo_1/CICLOS_NA_NORMALIZACAO_2/RGB/1/Parâmetros_de_todos_para_validacao_20201026_1_ciclos_RGB.csv') #('/tf/tensorflow-tutorials/Modelo_1/Parâmetros_de_todos.csv')"
   ]
  },
  {
   "cell_type": "code",
   "execution_count": 11,
   "metadata": {
    "scrolled": false
   },
   "outputs": [
    {
     "data": {
      "text/html": [
       "<div>\n",
       "<style scoped>\n",
       "    .dataframe tbody tr th:only-of-type {\n",
       "        vertical-align: middle;\n",
       "    }\n",
       "\n",
       "    .dataframe tbody tr th {\n",
       "        vertical-align: top;\n",
       "    }\n",
       "\n",
       "    .dataframe thead th {\n",
       "        text-align: right;\n",
       "    }\n",
       "</style>\n",
       "<table border=\"1\" class=\"dataframe\">\n",
       "  <thead>\n",
       "    <tr style=\"text-align: right;\">\n",
       "      <th></th>\n",
       "      <th>Altura (m)</th>\n",
       "      <th>Idade</th>\n",
       "      <th>Sexo</th>\n",
       "      <th>Velocidade média (m/s)</th>\n",
       "      <th>Cadência</th>\n",
       "      <th>Comprimento médio passada</th>\n",
       "      <th>Erro absoluto médio do comprimento de passo em metros</th>\n",
       "      <th>Desvio padrão comprimento passo medido em metros</th>\n",
       "      <th>Desvio padrão do erro de comprimento de passo em metros</th>\n",
       "      <th>Largura da passada</th>\n",
       "      <th>...</th>\n",
       "      <th>Desvio padrão do ângulo  médio da coxa do joelho esquerdo</th>\n",
       "      <th>Ângulo médio de flexão do joelho esquerdo</th>\n",
       "      <th>Desvio padrão do ângulo de flexão do joelho esquerdo</th>\n",
       "      <th>Ângulo médio de flexão do joelho esquerdo.1</th>\n",
       "      <th>Desvio padrão do ângulo de flexão do joelho esquerdo.1</th>\n",
       "      <th>Ângulo extensão do quadril (°)</th>\n",
       "      <th>Desvio padrão do ângulo de extensão do quadril (°)</th>\n",
       "      <th>Simetria do comprimento de passo</th>\n",
       "      <th>Desvio padrão da simetria do comprimento de passo</th>\n",
       "      <th>Movimento</th>\n",
       "    </tr>\n",
       "  </thead>\n",
       "  <tbody>\n",
       "    <tr>\n",
       "      <th>0</th>\n",
       "      <td>1.765</td>\n",
       "      <td>20.0</td>\n",
       "      <td>0</td>\n",
       "      <td>7.4637</td>\n",
       "      <td>0.0000</td>\n",
       "      <td>0.9766</td>\n",
       "      <td>0.000</td>\n",
       "      <td>0.000</td>\n",
       "      <td>0.00</td>\n",
       "      <td>0.6593</td>\n",
       "      <td>...</td>\n",
       "      <td>0.000000</td>\n",
       "      <td>46.125476</td>\n",
       "      <td>45.125476</td>\n",
       "      <td>41.449890</td>\n",
       "      <td>40.449890</td>\n",
       "      <td>0.000000</td>\n",
       "      <td>0.000000</td>\n",
       "      <td>0.000000</td>\n",
       "      <td>0.000000</td>\n",
       "      <td>0</td>\n",
       "    </tr>\n",
       "    <tr>\n",
       "      <th>1</th>\n",
       "      <td>1.765</td>\n",
       "      <td>20.0</td>\n",
       "      <td>0</td>\n",
       "      <td>2.8363</td>\n",
       "      <td>165.9123</td>\n",
       "      <td>0.9767</td>\n",
       "      <td>0.000</td>\n",
       "      <td>0.000</td>\n",
       "      <td>0.00</td>\n",
       "      <td>0.5438</td>\n",
       "      <td>...</td>\n",
       "      <td>40.494494</td>\n",
       "      <td>49.434189</td>\n",
       "      <td>37.140736</td>\n",
       "      <td>44.055560</td>\n",
       "      <td>33.232135</td>\n",
       "      <td>-48.213917</td>\n",
       "      <td>48.213917</td>\n",
       "      <td>0.000000</td>\n",
       "      <td>0.000000</td>\n",
       "      <td>0</td>\n",
       "    </tr>\n",
       "    <tr>\n",
       "      <th>2</th>\n",
       "      <td>1.765</td>\n",
       "      <td>20.0</td>\n",
       "      <td>0</td>\n",
       "      <td>2.1308</td>\n",
       "      <td>122.8705</td>\n",
       "      <td>0.9768</td>\n",
       "      <td>0.000</td>\n",
       "      <td>0.000</td>\n",
       "      <td>0.00</td>\n",
       "      <td>0.4848</td>\n",
       "      <td>...</td>\n",
       "      <td>37.533868</td>\n",
       "      <td>49.959544</td>\n",
       "      <td>32.177689</td>\n",
       "      <td>41.880423</td>\n",
       "      <td>29.025416</td>\n",
       "      <td>-52.830101</td>\n",
       "      <td>39.904129</td>\n",
       "      <td>0.000000</td>\n",
       "      <td>0.000000</td>\n",
       "      <td>0</td>\n",
       "    </tr>\n",
       "    <tr>\n",
       "      <th>3</th>\n",
       "      <td>1.765</td>\n",
       "      <td>20.0</td>\n",
       "      <td>0</td>\n",
       "      <td>1.7190</td>\n",
       "      <td>97.2662</td>\n",
       "      <td>0.9769</td>\n",
       "      <td>0.000</td>\n",
       "      <td>0.000</td>\n",
       "      <td>0.00</td>\n",
       "      <td>0.4484</td>\n",
       "      <td>...</td>\n",
       "      <td>33.788442</td>\n",
       "      <td>43.965565</td>\n",
       "      <td>31.177461</td>\n",
       "      <td>44.298684</td>\n",
       "      <td>26.407797</td>\n",
       "      <td>-49.560904</td>\n",
       "      <td>35.018818</td>\n",
       "      <td>0.000000</td>\n",
       "      <td>0.000000</td>\n",
       "      <td>0</td>\n",
       "    </tr>\n",
       "    <tr>\n",
       "      <th>4</th>\n",
       "      <td>1.765</td>\n",
       "      <td>20.0</td>\n",
       "      <td>0</td>\n",
       "      <td>1.5364</td>\n",
       "      <td>79.1112</td>\n",
       "      <td>0.9770</td>\n",
       "      <td>0.000</td>\n",
       "      <td>0.000</td>\n",
       "      <td>0.00</td>\n",
       "      <td>0.3960</td>\n",
       "      <td>...</td>\n",
       "      <td>30.914964</td>\n",
       "      <td>36.842840</td>\n",
       "      <td>32.614329</td>\n",
       "      <td>40.200068</td>\n",
       "      <td>25.790238</td>\n",
       "      <td>-51.070091</td>\n",
       "      <td>31.466882</td>\n",
       "      <td>0.000000</td>\n",
       "      <td>0.000000</td>\n",
       "      <td>0</td>\n",
       "    </tr>\n",
       "    <tr>\n",
       "      <th>...</th>\n",
       "      <td>...</td>\n",
       "      <td>...</td>\n",
       "      <td>...</td>\n",
       "      <td>...</td>\n",
       "      <td>...</td>\n",
       "      <td>...</td>\n",
       "      <td>...</td>\n",
       "      <td>...</td>\n",
       "      <td>...</td>\n",
       "      <td>...</td>\n",
       "      <td>...</td>\n",
       "      <td>...</td>\n",
       "      <td>...</td>\n",
       "      <td>...</td>\n",
       "      <td>...</td>\n",
       "      <td>...</td>\n",
       "      <td>...</td>\n",
       "      <td>...</td>\n",
       "      <td>...</td>\n",
       "      <td>...</td>\n",
       "      <td>...</td>\n",
       "    </tr>\n",
       "    <tr>\n",
       "      <th>6373</th>\n",
       "      <td>1.765</td>\n",
       "      <td>20.0</td>\n",
       "      <td>0</td>\n",
       "      <td>1.6016</td>\n",
       "      <td>35.2774</td>\n",
       "      <td>0.9602</td>\n",
       "      <td>0.097</td>\n",
       "      <td>0.097</td>\n",
       "      <td>0.08</td>\n",
       "      <td>0.1418</td>\n",
       "      <td>...</td>\n",
       "      <td>57.811478</td>\n",
       "      <td>11.123410</td>\n",
       "      <td>11.542391</td>\n",
       "      <td>11.176518</td>\n",
       "      <td>9.008943</td>\n",
       "      <td>-0.012453</td>\n",
       "      <td>13.070804</td>\n",
       "      <td>0.847389</td>\n",
       "      <td>0.365942</td>\n",
       "      <td>5</td>\n",
       "    </tr>\n",
       "    <tr>\n",
       "      <th>6374</th>\n",
       "      <td>1.765</td>\n",
       "      <td>20.0</td>\n",
       "      <td>0</td>\n",
       "      <td>1.5983</td>\n",
       "      <td>35.1834</td>\n",
       "      <td>0.9602</td>\n",
       "      <td>0.097</td>\n",
       "      <td>0.097</td>\n",
       "      <td>0.08</td>\n",
       "      <td>0.1418</td>\n",
       "      <td>...</td>\n",
       "      <td>57.856452</td>\n",
       "      <td>11.119913</td>\n",
       "      <td>11.517172</td>\n",
       "      <td>11.259844</td>\n",
       "      <td>9.076410</td>\n",
       "      <td>0.022714</td>\n",
       "      <td>13.052693</td>\n",
       "      <td>0.847389</td>\n",
       "      <td>0.365942</td>\n",
       "      <td>5</td>\n",
       "    </tr>\n",
       "    <tr>\n",
       "      <th>6375</th>\n",
       "      <td>1.765</td>\n",
       "      <td>20.0</td>\n",
       "      <td>0</td>\n",
       "      <td>1.5981</td>\n",
       "      <td>34.9713</td>\n",
       "      <td>0.9602</td>\n",
       "      <td>0.097</td>\n",
       "      <td>0.097</td>\n",
       "      <td>0.08</td>\n",
       "      <td>0.1415</td>\n",
       "      <td>...</td>\n",
       "      <td>57.987785</td>\n",
       "      <td>11.194470</td>\n",
       "      <td>11.547009</td>\n",
       "      <td>11.216263</td>\n",
       "      <td>9.080446</td>\n",
       "      <td>0.044380</td>\n",
       "      <td>13.028128</td>\n",
       "      <td>0.847389</td>\n",
       "      <td>0.365942</td>\n",
       "      <td>5</td>\n",
       "    </tr>\n",
       "    <tr>\n",
       "      <th>6376</th>\n",
       "      <td>1.765</td>\n",
       "      <td>20.0</td>\n",
       "      <td>0</td>\n",
       "      <td>1.5949</td>\n",
       "      <td>34.7573</td>\n",
       "      <td>0.9602</td>\n",
       "      <td>0.097</td>\n",
       "      <td>0.097</td>\n",
       "      <td>0.08</td>\n",
       "      <td>0.1413</td>\n",
       "      <td>...</td>\n",
       "      <td>57.945179</td>\n",
       "      <td>11.167880</td>\n",
       "      <td>11.528904</td>\n",
       "      <td>11.177594</td>\n",
       "      <td>9.079562</td>\n",
       "      <td>0.030763</td>\n",
       "      <td>13.001277</td>\n",
       "      <td>0.847389</td>\n",
       "      <td>0.365942</td>\n",
       "      <td>5</td>\n",
       "    </tr>\n",
       "    <tr>\n",
       "      <th>6377</th>\n",
       "      <td>1.765</td>\n",
       "      <td>20.0</td>\n",
       "      <td>0</td>\n",
       "      <td>1.5946</td>\n",
       "      <td>34.6003</td>\n",
       "      <td>0.9602</td>\n",
       "      <td>0.097</td>\n",
       "      <td>0.097</td>\n",
       "      <td>0.08</td>\n",
       "      <td>0.1412</td>\n",
       "      <td>...</td>\n",
       "      <td>57.940106</td>\n",
       "      <td>11.150122</td>\n",
       "      <td>11.507074</td>\n",
       "      <td>11.135164</td>\n",
       "      <td>9.082711</td>\n",
       "      <td>-0.001246</td>\n",
       "      <td>12.982022</td>\n",
       "      <td>0.847389</td>\n",
       "      <td>0.365942</td>\n",
       "      <td>5</td>\n",
       "    </tr>\n",
       "  </tbody>\n",
       "</table>\n",
       "<p>6378 rows × 40 columns</p>\n",
       "</div>"
      ],
      "text/plain": [
       "      Altura (m)  Idade  Sexo  Velocidade média (m/s)  Cadência  \\\n",
       "0          1.765   20.0     0                  7.4637    0.0000   \n",
       "1          1.765   20.0     0                  2.8363  165.9123   \n",
       "2          1.765   20.0     0                  2.1308  122.8705   \n",
       "3          1.765   20.0     0                  1.7190   97.2662   \n",
       "4          1.765   20.0     0                  1.5364   79.1112   \n",
       "...          ...    ...   ...                     ...       ...   \n",
       "6373       1.765   20.0     0                  1.6016   35.2774   \n",
       "6374       1.765   20.0     0                  1.5983   35.1834   \n",
       "6375       1.765   20.0     0                  1.5981   34.9713   \n",
       "6376       1.765   20.0     0                  1.5949   34.7573   \n",
       "6377       1.765   20.0     0                  1.5946   34.6003   \n",
       "\n",
       "      Comprimento médio passada  \\\n",
       "0                        0.9766   \n",
       "1                        0.9767   \n",
       "2                        0.9768   \n",
       "3                        0.9769   \n",
       "4                        0.9770   \n",
       "...                         ...   \n",
       "6373                     0.9602   \n",
       "6374                     0.9602   \n",
       "6375                     0.9602   \n",
       "6376                     0.9602   \n",
       "6377                     0.9602   \n",
       "\n",
       "      Erro absoluto médio do comprimento de passo em metros  \\\n",
       "0                                                 0.000       \n",
       "1                                                 0.000       \n",
       "2                                                 0.000       \n",
       "3                                                 0.000       \n",
       "4                                                 0.000       \n",
       "...                                                 ...       \n",
       "6373                                              0.097       \n",
       "6374                                              0.097       \n",
       "6375                                              0.097       \n",
       "6376                                              0.097       \n",
       "6377                                              0.097       \n",
       "\n",
       "      Desvio padrão comprimento passo medido em metros  \\\n",
       "0                                                0.000   \n",
       "1                                                0.000   \n",
       "2                                                0.000   \n",
       "3                                                0.000   \n",
       "4                                                0.000   \n",
       "...                                                ...   \n",
       "6373                                             0.097   \n",
       "6374                                             0.097   \n",
       "6375                                             0.097   \n",
       "6376                                             0.097   \n",
       "6377                                             0.097   \n",
       "\n",
       "      Desvio padrão do erro de comprimento de passo em metros  \\\n",
       "0                                                  0.00         \n",
       "1                                                  0.00         \n",
       "2                                                  0.00         \n",
       "3                                                  0.00         \n",
       "4                                                  0.00         \n",
       "...                                                 ...         \n",
       "6373                                               0.08         \n",
       "6374                                               0.08         \n",
       "6375                                               0.08         \n",
       "6376                                               0.08         \n",
       "6377                                               0.08         \n",
       "\n",
       "      Largura da passada  ...  \\\n",
       "0                 0.6593  ...   \n",
       "1                 0.5438  ...   \n",
       "2                 0.4848  ...   \n",
       "3                 0.4484  ...   \n",
       "4                 0.3960  ...   \n",
       "...                  ...  ...   \n",
       "6373              0.1418  ...   \n",
       "6374              0.1418  ...   \n",
       "6375              0.1415  ...   \n",
       "6376              0.1413  ...   \n",
       "6377              0.1412  ...   \n",
       "\n",
       "      Desvio padrão do ângulo  médio da coxa do joelho esquerdo  \\\n",
       "0                                              0.000000           \n",
       "1                                             40.494494           \n",
       "2                                             37.533868           \n",
       "3                                             33.788442           \n",
       "4                                             30.914964           \n",
       "...                                                 ...           \n",
       "6373                                          57.811478           \n",
       "6374                                          57.856452           \n",
       "6375                                          57.987785           \n",
       "6376                                          57.945179           \n",
       "6377                                          57.940106           \n",
       "\n",
       "      Ângulo médio de flexão do joelho esquerdo  \\\n",
       "0                                     46.125476   \n",
       "1                                     49.434189   \n",
       "2                                     49.959544   \n",
       "3                                     43.965565   \n",
       "4                                     36.842840   \n",
       "...                                         ...   \n",
       "6373                                  11.123410   \n",
       "6374                                  11.119913   \n",
       "6375                                  11.194470   \n",
       "6376                                  11.167880   \n",
       "6377                                  11.150122   \n",
       "\n",
       "      Desvio padrão do ângulo de flexão do joelho esquerdo  \\\n",
       "0                                             45.125476      \n",
       "1                                             37.140736      \n",
       "2                                             32.177689      \n",
       "3                                             31.177461      \n",
       "4                                             32.614329      \n",
       "...                                                 ...      \n",
       "6373                                          11.542391      \n",
       "6374                                          11.517172      \n",
       "6375                                          11.547009      \n",
       "6376                                          11.528904      \n",
       "6377                                          11.507074      \n",
       "\n",
       "      Ângulo médio de flexão do joelho esquerdo.1  \\\n",
       "0                                       41.449890   \n",
       "1                                       44.055560   \n",
       "2                                       41.880423   \n",
       "3                                       44.298684   \n",
       "4                                       40.200068   \n",
       "...                                           ...   \n",
       "6373                                    11.176518   \n",
       "6374                                    11.259844   \n",
       "6375                                    11.216263   \n",
       "6376                                    11.177594   \n",
       "6377                                    11.135164   \n",
       "\n",
       "      Desvio padrão do ângulo de flexão do joelho esquerdo.1  \\\n",
       "0                                             40.449890        \n",
       "1                                             33.232135        \n",
       "2                                             29.025416        \n",
       "3                                             26.407797        \n",
       "4                                             25.790238        \n",
       "...                                                 ...        \n",
       "6373                                           9.008943        \n",
       "6374                                           9.076410        \n",
       "6375                                           9.080446        \n",
       "6376                                           9.079562        \n",
       "6377                                           9.082711        \n",
       "\n",
       "      Ângulo extensão do quadril (°)  \\\n",
       "0                           0.000000   \n",
       "1                         -48.213917   \n",
       "2                         -52.830101   \n",
       "3                         -49.560904   \n",
       "4                         -51.070091   \n",
       "...                              ...   \n",
       "6373                       -0.012453   \n",
       "6374                        0.022714   \n",
       "6375                        0.044380   \n",
       "6376                        0.030763   \n",
       "6377                       -0.001246   \n",
       "\n",
       "      Desvio padrão do ângulo de extensão do quadril (°)  \\\n",
       "0                                              0.000000    \n",
       "1                                             48.213917    \n",
       "2                                             39.904129    \n",
       "3                                             35.018818    \n",
       "4                                             31.466882    \n",
       "...                                                 ...    \n",
       "6373                                          13.070804    \n",
       "6374                                          13.052693    \n",
       "6375                                          13.028128    \n",
       "6376                                          13.001277    \n",
       "6377                                          12.982022    \n",
       "\n",
       "      Simetria do comprimento de passo  \\\n",
       "0                             0.000000   \n",
       "1                             0.000000   \n",
       "2                             0.000000   \n",
       "3                             0.000000   \n",
       "4                             0.000000   \n",
       "...                                ...   \n",
       "6373                          0.847389   \n",
       "6374                          0.847389   \n",
       "6375                          0.847389   \n",
       "6376                          0.847389   \n",
       "6377                          0.847389   \n",
       "\n",
       "      Desvio padrão da simetria do comprimento de passo  Movimento  \n",
       "0                                              0.000000          0  \n",
       "1                                              0.000000          0  \n",
       "2                                              0.000000          0  \n",
       "3                                              0.000000          0  \n",
       "4                                              0.000000          0  \n",
       "...                                                 ...        ...  \n",
       "6373                                           0.365942          5  \n",
       "6374                                           0.365942          5  \n",
       "6375                                           0.365942          5  \n",
       "6376                                           0.365942          5  \n",
       "6377                                           0.365942          5  \n",
       "\n",
       "[6378 rows x 40 columns]"
      ]
     },
     "execution_count": 11,
     "metadata": {},
     "output_type": "execute_result"
    }
   ],
   "source": [
    "data_train"
   ]
  },
  {
   "cell_type": "code",
   "execution_count": 12,
   "metadata": {},
   "outputs": [],
   "source": [
    "data_test=pd.read_csv('/tf/tensorflow-tutorials/Modelo_1/CICLOS_NA_NORMALIZACAO_2/RGB/4/Parâmetros_de_todos_para_validacao_20201026_4_ciclos_RGB.csv') #('/tf/tensorflow-tutorials/Modelo_1/Parâmetros_de_todos.csv')"
   ]
  },
  {
   "cell_type": "code",
   "execution_count": 13,
   "metadata": {
    "scrolled": false
   },
   "outputs": [
    {
     "data": {
      "text/html": [
       "<div>\n",
       "<style scoped>\n",
       "    .dataframe tbody tr th:only-of-type {\n",
       "        vertical-align: middle;\n",
       "    }\n",
       "\n",
       "    .dataframe tbody tr th {\n",
       "        vertical-align: top;\n",
       "    }\n",
       "\n",
       "    .dataframe thead th {\n",
       "        text-align: right;\n",
       "    }\n",
       "</style>\n",
       "<table border=\"1\" class=\"dataframe\">\n",
       "  <thead>\n",
       "    <tr style=\"text-align: right;\">\n",
       "      <th></th>\n",
       "      <th>Altura (m)</th>\n",
       "      <th>Idade</th>\n",
       "      <th>Sexo</th>\n",
       "      <th>Velocidade média (m/s)</th>\n",
       "      <th>Cadência</th>\n",
       "      <th>Comprimento médio passada</th>\n",
       "      <th>Erro absoluto médio do comprimento de passo em metros</th>\n",
       "      <th>Desvio padrão comprimento passo medido em metros</th>\n",
       "      <th>Desvio padrão do erro de comprimento de passo em metros</th>\n",
       "      <th>Largura da passada</th>\n",
       "      <th>...</th>\n",
       "      <th>Desvio padrão do ângulo  médio da coxa do joelho esquerdo</th>\n",
       "      <th>Ângulo médio de flexão do joelho esquerdo</th>\n",
       "      <th>Desvio padrão do ângulo de flexão do joelho esquerdo</th>\n",
       "      <th>Ângulo médio de flexão do joelho esquerdo.1</th>\n",
       "      <th>Desvio padrão do ângulo de flexão do joelho esquerdo.1</th>\n",
       "      <th>Ângulo extensão do quadril (°)</th>\n",
       "      <th>Desvio padrão do ângulo de extensão do quadril (°)</th>\n",
       "      <th>Simetria do comprimento de passo</th>\n",
       "      <th>Desvio padrão da simetria do comprimento de passo</th>\n",
       "      <th>Movimento</th>\n",
       "    </tr>\n",
       "  </thead>\n",
       "  <tbody>\n",
       "    <tr>\n",
       "      <th>0</th>\n",
       "      <td>1.765</td>\n",
       "      <td>20.0</td>\n",
       "      <td>0</td>\n",
       "      <td>4.7114</td>\n",
       "      <td>0.0000</td>\n",
       "      <td>0.0000</td>\n",
       "      <td>0.000</td>\n",
       "      <td>0.000</td>\n",
       "      <td>0.00</td>\n",
       "      <td>0.6593</td>\n",
       "      <td>...</td>\n",
       "      <td>0.000000</td>\n",
       "      <td>46.125476</td>\n",
       "      <td>45.125476</td>\n",
       "      <td>41.449890</td>\n",
       "      <td>40.449890</td>\n",
       "      <td>0.000000</td>\n",
       "      <td>0.000000</td>\n",
       "      <td>0.000000</td>\n",
       "      <td>0.000000</td>\n",
       "      <td>0</td>\n",
       "    </tr>\n",
       "    <tr>\n",
       "      <th>1</th>\n",
       "      <td>1.765</td>\n",
       "      <td>20.0</td>\n",
       "      <td>0</td>\n",
       "      <td>2.6784</td>\n",
       "      <td>156.6740</td>\n",
       "      <td>0.0000</td>\n",
       "      <td>0.000</td>\n",
       "      <td>0.000</td>\n",
       "      <td>0.00</td>\n",
       "      <td>0.5438</td>\n",
       "      <td>...</td>\n",
       "      <td>40.494494</td>\n",
       "      <td>49.434189</td>\n",
       "      <td>37.140736</td>\n",
       "      <td>44.055560</td>\n",
       "      <td>33.232135</td>\n",
       "      <td>-48.213917</td>\n",
       "      <td>48.213917</td>\n",
       "      <td>0.000000</td>\n",
       "      <td>0.000000</td>\n",
       "      <td>0</td>\n",
       "    </tr>\n",
       "    <tr>\n",
       "      <th>2</th>\n",
       "      <td>1.765</td>\n",
       "      <td>20.0</td>\n",
       "      <td>0</td>\n",
       "      <td>1.9959</td>\n",
       "      <td>115.0889</td>\n",
       "      <td>0.0000</td>\n",
       "      <td>0.000</td>\n",
       "      <td>0.000</td>\n",
       "      <td>0.00</td>\n",
       "      <td>0.4848</td>\n",
       "      <td>...</td>\n",
       "      <td>37.533868</td>\n",
       "      <td>49.959544</td>\n",
       "      <td>32.177689</td>\n",
       "      <td>41.880423</td>\n",
       "      <td>29.025416</td>\n",
       "      <td>-52.830101</td>\n",
       "      <td>39.904129</td>\n",
       "      <td>0.000000</td>\n",
       "      <td>0.000000</td>\n",
       "      <td>0</td>\n",
       "    </tr>\n",
       "    <tr>\n",
       "      <th>3</th>\n",
       "      <td>1.765</td>\n",
       "      <td>20.0</td>\n",
       "      <td>0</td>\n",
       "      <td>1.6321</td>\n",
       "      <td>92.3506</td>\n",
       "      <td>0.0000</td>\n",
       "      <td>0.000</td>\n",
       "      <td>0.000</td>\n",
       "      <td>0.00</td>\n",
       "      <td>0.4484</td>\n",
       "      <td>...</td>\n",
       "      <td>33.788442</td>\n",
       "      <td>43.965565</td>\n",
       "      <td>31.177461</td>\n",
       "      <td>44.298684</td>\n",
       "      <td>26.407797</td>\n",
       "      <td>-49.560904</td>\n",
       "      <td>35.018818</td>\n",
       "      <td>0.000000</td>\n",
       "      <td>0.000000</td>\n",
       "      <td>0</td>\n",
       "    </tr>\n",
       "    <tr>\n",
       "      <th>4</th>\n",
       "      <td>1.765</td>\n",
       "      <td>20.0</td>\n",
       "      <td>0</td>\n",
       "      <td>1.4922</td>\n",
       "      <td>76.8347</td>\n",
       "      <td>0.0000</td>\n",
       "      <td>0.000</td>\n",
       "      <td>0.000</td>\n",
       "      <td>0.00</td>\n",
       "      <td>0.3960</td>\n",
       "      <td>...</td>\n",
       "      <td>30.914964</td>\n",
       "      <td>36.842840</td>\n",
       "      <td>32.614329</td>\n",
       "      <td>40.200068</td>\n",
       "      <td>25.790238</td>\n",
       "      <td>-51.070091</td>\n",
       "      <td>31.466882</td>\n",
       "      <td>0.000000</td>\n",
       "      <td>0.000000</td>\n",
       "      <td>0</td>\n",
       "    </tr>\n",
       "    <tr>\n",
       "      <th>...</th>\n",
       "      <td>...</td>\n",
       "      <td>...</td>\n",
       "      <td>...</td>\n",
       "      <td>...</td>\n",
       "      <td>...</td>\n",
       "      <td>...</td>\n",
       "      <td>...</td>\n",
       "      <td>...</td>\n",
       "      <td>...</td>\n",
       "      <td>...</td>\n",
       "      <td>...</td>\n",
       "      <td>...</td>\n",
       "      <td>...</td>\n",
       "      <td>...</td>\n",
       "      <td>...</td>\n",
       "      <td>...</td>\n",
       "      <td>...</td>\n",
       "      <td>...</td>\n",
       "      <td>...</td>\n",
       "      <td>...</td>\n",
       "      <td>...</td>\n",
       "    </tr>\n",
       "    <tr>\n",
       "      <th>4150</th>\n",
       "      <td>1.765</td>\n",
       "      <td>20.0</td>\n",
       "      <td>0</td>\n",
       "      <td>1.6407</td>\n",
       "      <td>35.0435</td>\n",
       "      <td>0.9602</td>\n",
       "      <td>0.097</td>\n",
       "      <td>0.097</td>\n",
       "      <td>0.08</td>\n",
       "      <td>0.1471</td>\n",
       "      <td>...</td>\n",
       "      <td>58.827607</td>\n",
       "      <td>11.741206</td>\n",
       "      <td>11.709110</td>\n",
       "      <td>11.138884</td>\n",
       "      <td>9.013744</td>\n",
       "      <td>-0.185727</td>\n",
       "      <td>12.815989</td>\n",
       "      <td>0.847389</td>\n",
       "      <td>0.365942</td>\n",
       "      <td>5</td>\n",
       "    </tr>\n",
       "    <tr>\n",
       "      <th>4151</th>\n",
       "      <td>1.765</td>\n",
       "      <td>20.0</td>\n",
       "      <td>0</td>\n",
       "      <td>1.6349</td>\n",
       "      <td>34.8739</td>\n",
       "      <td>0.9602</td>\n",
       "      <td>0.097</td>\n",
       "      <td>0.097</td>\n",
       "      <td>0.08</td>\n",
       "      <td>0.1476</td>\n",
       "      <td>...</td>\n",
       "      <td>58.974940</td>\n",
       "      <td>11.721134</td>\n",
       "      <td>11.689280</td>\n",
       "      <td>11.106350</td>\n",
       "      <td>9.009539</td>\n",
       "      <td>-0.194004</td>\n",
       "      <td>12.790240</td>\n",
       "      <td>0.847389</td>\n",
       "      <td>0.365942</td>\n",
       "      <td>5</td>\n",
       "    </tr>\n",
       "    <tr>\n",
       "      <th>4152</th>\n",
       "      <td>1.765</td>\n",
       "      <td>20.0</td>\n",
       "      <td>0</td>\n",
       "      <td>1.6272</td>\n",
       "      <td>34.6642</td>\n",
       "      <td>0.9602</td>\n",
       "      <td>0.097</td>\n",
       "      <td>0.097</td>\n",
       "      <td>0.08</td>\n",
       "      <td>0.1482</td>\n",
       "      <td>...</td>\n",
       "      <td>58.945914</td>\n",
       "      <td>11.787720</td>\n",
       "      <td>11.711676</td>\n",
       "      <td>11.085569</td>\n",
       "      <td>8.996991</td>\n",
       "      <td>-0.177758</td>\n",
       "      <td>12.766515</td>\n",
       "      <td>0.847389</td>\n",
       "      <td>0.365942</td>\n",
       "      <td>5</td>\n",
       "    </tr>\n",
       "    <tr>\n",
       "      <th>4153</th>\n",
       "      <td>1.765</td>\n",
       "      <td>20.0</td>\n",
       "      <td>0</td>\n",
       "      <td>1.6218</td>\n",
       "      <td>34.5036</td>\n",
       "      <td>0.9602</td>\n",
       "      <td>0.097</td>\n",
       "      <td>0.097</td>\n",
       "      <td>0.08</td>\n",
       "      <td>0.1487</td>\n",
       "      <td>...</td>\n",
       "      <td>59.105138</td>\n",
       "      <td>11.775342</td>\n",
       "      <td>11.689453</td>\n",
       "      <td>11.071217</td>\n",
       "      <td>8.981496</td>\n",
       "      <td>-0.185107</td>\n",
       "      <td>12.740952</td>\n",
       "      <td>0.847389</td>\n",
       "      <td>0.365942</td>\n",
       "      <td>5</td>\n",
       "    </tr>\n",
       "    <tr>\n",
       "      <th>4154</th>\n",
       "      <td>1.765</td>\n",
       "      <td>20.0</td>\n",
       "      <td>0</td>\n",
       "      <td>1.6163</td>\n",
       "      <td>34.3416</td>\n",
       "      <td>0.9602</td>\n",
       "      <td>0.097</td>\n",
       "      <td>0.097</td>\n",
       "      <td>0.08</td>\n",
       "      <td>0.1492</td>\n",
       "      <td>...</td>\n",
       "      <td>59.125035</td>\n",
       "      <td>11.831432</td>\n",
       "      <td>11.698891</td>\n",
       "      <td>11.042444</td>\n",
       "      <td>8.974650</td>\n",
       "      <td>-0.175517</td>\n",
       "      <td>12.715915</td>\n",
       "      <td>0.847389</td>\n",
       "      <td>0.365942</td>\n",
       "      <td>5</td>\n",
       "    </tr>\n",
       "  </tbody>\n",
       "</table>\n",
       "<p>4155 rows × 40 columns</p>\n",
       "</div>"
      ],
      "text/plain": [
       "      Altura (m)  Idade  Sexo  Velocidade média (m/s)  Cadência  \\\n",
       "0          1.765   20.0     0                  4.7114    0.0000   \n",
       "1          1.765   20.0     0                  2.6784  156.6740   \n",
       "2          1.765   20.0     0                  1.9959  115.0889   \n",
       "3          1.765   20.0     0                  1.6321   92.3506   \n",
       "4          1.765   20.0     0                  1.4922   76.8347   \n",
       "...          ...    ...   ...                     ...       ...   \n",
       "4150       1.765   20.0     0                  1.6407   35.0435   \n",
       "4151       1.765   20.0     0                  1.6349   34.8739   \n",
       "4152       1.765   20.0     0                  1.6272   34.6642   \n",
       "4153       1.765   20.0     0                  1.6218   34.5036   \n",
       "4154       1.765   20.0     0                  1.6163   34.3416   \n",
       "\n",
       "      Comprimento médio passada  \\\n",
       "0                        0.0000   \n",
       "1                        0.0000   \n",
       "2                        0.0000   \n",
       "3                        0.0000   \n",
       "4                        0.0000   \n",
       "...                         ...   \n",
       "4150                     0.9602   \n",
       "4151                     0.9602   \n",
       "4152                     0.9602   \n",
       "4153                     0.9602   \n",
       "4154                     0.9602   \n",
       "\n",
       "      Erro absoluto médio do comprimento de passo em metros  \\\n",
       "0                                                 0.000       \n",
       "1                                                 0.000       \n",
       "2                                                 0.000       \n",
       "3                                                 0.000       \n",
       "4                                                 0.000       \n",
       "...                                                 ...       \n",
       "4150                                              0.097       \n",
       "4151                                              0.097       \n",
       "4152                                              0.097       \n",
       "4153                                              0.097       \n",
       "4154                                              0.097       \n",
       "\n",
       "      Desvio padrão comprimento passo medido em metros  \\\n",
       "0                                                0.000   \n",
       "1                                                0.000   \n",
       "2                                                0.000   \n",
       "3                                                0.000   \n",
       "4                                                0.000   \n",
       "...                                                ...   \n",
       "4150                                             0.097   \n",
       "4151                                             0.097   \n",
       "4152                                             0.097   \n",
       "4153                                             0.097   \n",
       "4154                                             0.097   \n",
       "\n",
       "      Desvio padrão do erro de comprimento de passo em metros  \\\n",
       "0                                                  0.00         \n",
       "1                                                  0.00         \n",
       "2                                                  0.00         \n",
       "3                                                  0.00         \n",
       "4                                                  0.00         \n",
       "...                                                 ...         \n",
       "4150                                               0.08         \n",
       "4151                                               0.08         \n",
       "4152                                               0.08         \n",
       "4153                                               0.08         \n",
       "4154                                               0.08         \n",
       "\n",
       "      Largura da passada  ...  \\\n",
       "0                 0.6593  ...   \n",
       "1                 0.5438  ...   \n",
       "2                 0.4848  ...   \n",
       "3                 0.4484  ...   \n",
       "4                 0.3960  ...   \n",
       "...                  ...  ...   \n",
       "4150              0.1471  ...   \n",
       "4151              0.1476  ...   \n",
       "4152              0.1482  ...   \n",
       "4153              0.1487  ...   \n",
       "4154              0.1492  ...   \n",
       "\n",
       "      Desvio padrão do ângulo  médio da coxa do joelho esquerdo  \\\n",
       "0                                              0.000000           \n",
       "1                                             40.494494           \n",
       "2                                             37.533868           \n",
       "3                                             33.788442           \n",
       "4                                             30.914964           \n",
       "...                                                 ...           \n",
       "4150                                          58.827607           \n",
       "4151                                          58.974940           \n",
       "4152                                          58.945914           \n",
       "4153                                          59.105138           \n",
       "4154                                          59.125035           \n",
       "\n",
       "      Ângulo médio de flexão do joelho esquerdo  \\\n",
       "0                                     46.125476   \n",
       "1                                     49.434189   \n",
       "2                                     49.959544   \n",
       "3                                     43.965565   \n",
       "4                                     36.842840   \n",
       "...                                         ...   \n",
       "4150                                  11.741206   \n",
       "4151                                  11.721134   \n",
       "4152                                  11.787720   \n",
       "4153                                  11.775342   \n",
       "4154                                  11.831432   \n",
       "\n",
       "      Desvio padrão do ângulo de flexão do joelho esquerdo  \\\n",
       "0                                             45.125476      \n",
       "1                                             37.140736      \n",
       "2                                             32.177689      \n",
       "3                                             31.177461      \n",
       "4                                             32.614329      \n",
       "...                                                 ...      \n",
       "4150                                          11.709110      \n",
       "4151                                          11.689280      \n",
       "4152                                          11.711676      \n",
       "4153                                          11.689453      \n",
       "4154                                          11.698891      \n",
       "\n",
       "      Ângulo médio de flexão do joelho esquerdo.1  \\\n",
       "0                                       41.449890   \n",
       "1                                       44.055560   \n",
       "2                                       41.880423   \n",
       "3                                       44.298684   \n",
       "4                                       40.200068   \n",
       "...                                           ...   \n",
       "4150                                    11.138884   \n",
       "4151                                    11.106350   \n",
       "4152                                    11.085569   \n",
       "4153                                    11.071217   \n",
       "4154                                    11.042444   \n",
       "\n",
       "      Desvio padrão do ângulo de flexão do joelho esquerdo.1  \\\n",
       "0                                             40.449890        \n",
       "1                                             33.232135        \n",
       "2                                             29.025416        \n",
       "3                                             26.407797        \n",
       "4                                             25.790238        \n",
       "...                                                 ...        \n",
       "4150                                           9.013744        \n",
       "4151                                           9.009539        \n",
       "4152                                           8.996991        \n",
       "4153                                           8.981496        \n",
       "4154                                           8.974650        \n",
       "\n",
       "      Ângulo extensão do quadril (°)  \\\n",
       "0                           0.000000   \n",
       "1                         -48.213917   \n",
       "2                         -52.830101   \n",
       "3                         -49.560904   \n",
       "4                         -51.070091   \n",
       "...                              ...   \n",
       "4150                       -0.185727   \n",
       "4151                       -0.194004   \n",
       "4152                       -0.177758   \n",
       "4153                       -0.185107   \n",
       "4154                       -0.175517   \n",
       "\n",
       "      Desvio padrão do ângulo de extensão do quadril (°)  \\\n",
       "0                                              0.000000    \n",
       "1                                             48.213917    \n",
       "2                                             39.904129    \n",
       "3                                             35.018818    \n",
       "4                                             31.466882    \n",
       "...                                                 ...    \n",
       "4150                                          12.815989    \n",
       "4151                                          12.790240    \n",
       "4152                                          12.766515    \n",
       "4153                                          12.740952    \n",
       "4154                                          12.715915    \n",
       "\n",
       "      Simetria do comprimento de passo  \\\n",
       "0                             0.000000   \n",
       "1                             0.000000   \n",
       "2                             0.000000   \n",
       "3                             0.000000   \n",
       "4                             0.000000   \n",
       "...                                ...   \n",
       "4150                          0.847389   \n",
       "4151                          0.847389   \n",
       "4152                          0.847389   \n",
       "4153                          0.847389   \n",
       "4154                          0.847389   \n",
       "\n",
       "      Desvio padrão da simetria do comprimento de passo  Movimento  \n",
       "0                                              0.000000          0  \n",
       "1                                              0.000000          0  \n",
       "2                                              0.000000          0  \n",
       "3                                              0.000000          0  \n",
       "4                                              0.000000          0  \n",
       "...                                                 ...        ...  \n",
       "4150                                           0.365942          5  \n",
       "4151                                           0.365942          5  \n",
       "4152                                           0.365942          5  \n",
       "4153                                           0.365942          5  \n",
       "4154                                           0.365942          5  \n",
       "\n",
       "[4155 rows x 40 columns]"
      ]
     },
     "execution_count": 13,
     "metadata": {},
     "output_type": "execute_result"
    }
   ],
   "source": [
    "data_test"
   ]
  },
  {
   "cell_type": "code",
   "execution_count": 14,
   "metadata": {},
   "outputs": [],
   "source": [
    "dataset_train=data_train[['Velocidade média (m/s)','Comprimento médio passada','Largura da passada','Simetria do comprimento de passo','Cadência','Movimento']]"
   ]
  },
  {
   "cell_type": "code",
   "execution_count": 15,
   "metadata": {
    "scrolled": true
   },
   "outputs": [
    {
     "data": {
      "text/html": [
       "<div>\n",
       "<style scoped>\n",
       "    .dataframe tbody tr th:only-of-type {\n",
       "        vertical-align: middle;\n",
       "    }\n",
       "\n",
       "    .dataframe tbody tr th {\n",
       "        vertical-align: top;\n",
       "    }\n",
       "\n",
       "    .dataframe thead th {\n",
       "        text-align: right;\n",
       "    }\n",
       "</style>\n",
       "<table border=\"1\" class=\"dataframe\">\n",
       "  <thead>\n",
       "    <tr style=\"text-align: right;\">\n",
       "      <th></th>\n",
       "      <th>Velocidade média (m/s)</th>\n",
       "      <th>Comprimento médio passada</th>\n",
       "      <th>Largura da passada</th>\n",
       "      <th>Simetria do comprimento de passo</th>\n",
       "      <th>Cadência</th>\n",
       "      <th>Movimento</th>\n",
       "    </tr>\n",
       "  </thead>\n",
       "  <tbody>\n",
       "    <tr>\n",
       "      <th>0</th>\n",
       "      <td>7.4637</td>\n",
       "      <td>0.9766</td>\n",
       "      <td>0.6593</td>\n",
       "      <td>0.000000</td>\n",
       "      <td>0.0000</td>\n",
       "      <td>0</td>\n",
       "    </tr>\n",
       "    <tr>\n",
       "      <th>1</th>\n",
       "      <td>2.8363</td>\n",
       "      <td>0.9767</td>\n",
       "      <td>0.5438</td>\n",
       "      <td>0.000000</td>\n",
       "      <td>165.9123</td>\n",
       "      <td>0</td>\n",
       "    </tr>\n",
       "    <tr>\n",
       "      <th>2</th>\n",
       "      <td>2.1308</td>\n",
       "      <td>0.9768</td>\n",
       "      <td>0.4848</td>\n",
       "      <td>0.000000</td>\n",
       "      <td>122.8705</td>\n",
       "      <td>0</td>\n",
       "    </tr>\n",
       "    <tr>\n",
       "      <th>3</th>\n",
       "      <td>1.7190</td>\n",
       "      <td>0.9769</td>\n",
       "      <td>0.4484</td>\n",
       "      <td>0.000000</td>\n",
       "      <td>97.2662</td>\n",
       "      <td>0</td>\n",
       "    </tr>\n",
       "    <tr>\n",
       "      <th>4</th>\n",
       "      <td>1.5364</td>\n",
       "      <td>0.9770</td>\n",
       "      <td>0.3960</td>\n",
       "      <td>0.000000</td>\n",
       "      <td>79.1112</td>\n",
       "      <td>0</td>\n",
       "    </tr>\n",
       "    <tr>\n",
       "      <th>...</th>\n",
       "      <td>...</td>\n",
       "      <td>...</td>\n",
       "      <td>...</td>\n",
       "      <td>...</td>\n",
       "      <td>...</td>\n",
       "      <td>...</td>\n",
       "    </tr>\n",
       "    <tr>\n",
       "      <th>6373</th>\n",
       "      <td>1.6016</td>\n",
       "      <td>0.9602</td>\n",
       "      <td>0.1418</td>\n",
       "      <td>0.847389</td>\n",
       "      <td>35.2774</td>\n",
       "      <td>5</td>\n",
       "    </tr>\n",
       "    <tr>\n",
       "      <th>6374</th>\n",
       "      <td>1.5983</td>\n",
       "      <td>0.9602</td>\n",
       "      <td>0.1418</td>\n",
       "      <td>0.847389</td>\n",
       "      <td>35.1834</td>\n",
       "      <td>5</td>\n",
       "    </tr>\n",
       "    <tr>\n",
       "      <th>6375</th>\n",
       "      <td>1.5981</td>\n",
       "      <td>0.9602</td>\n",
       "      <td>0.1415</td>\n",
       "      <td>0.847389</td>\n",
       "      <td>34.9713</td>\n",
       "      <td>5</td>\n",
       "    </tr>\n",
       "    <tr>\n",
       "      <th>6376</th>\n",
       "      <td>1.5949</td>\n",
       "      <td>0.9602</td>\n",
       "      <td>0.1413</td>\n",
       "      <td>0.847389</td>\n",
       "      <td>34.7573</td>\n",
       "      <td>5</td>\n",
       "    </tr>\n",
       "    <tr>\n",
       "      <th>6377</th>\n",
       "      <td>1.5946</td>\n",
       "      <td>0.9602</td>\n",
       "      <td>0.1412</td>\n",
       "      <td>0.847389</td>\n",
       "      <td>34.6003</td>\n",
       "      <td>5</td>\n",
       "    </tr>\n",
       "  </tbody>\n",
       "</table>\n",
       "<p>6378 rows × 6 columns</p>\n",
       "</div>"
      ],
      "text/plain": [
       "      Velocidade média (m/s)  Comprimento médio passada  Largura da passada  \\\n",
       "0                     7.4637                     0.9766              0.6593   \n",
       "1                     2.8363                     0.9767              0.5438   \n",
       "2                     2.1308                     0.9768              0.4848   \n",
       "3                     1.7190                     0.9769              0.4484   \n",
       "4                     1.5364                     0.9770              0.3960   \n",
       "...                      ...                        ...                 ...   \n",
       "6373                  1.6016                     0.9602              0.1418   \n",
       "6374                  1.5983                     0.9602              0.1418   \n",
       "6375                  1.5981                     0.9602              0.1415   \n",
       "6376                  1.5949                     0.9602              0.1413   \n",
       "6377                  1.5946                     0.9602              0.1412   \n",
       "\n",
       "      Simetria do comprimento de passo  Cadência  Movimento  \n",
       "0                             0.000000    0.0000          0  \n",
       "1                             0.000000  165.9123          0  \n",
       "2                             0.000000  122.8705          0  \n",
       "3                             0.000000   97.2662          0  \n",
       "4                             0.000000   79.1112          0  \n",
       "...                                ...       ...        ...  \n",
       "6373                          0.847389   35.2774          5  \n",
       "6374                          0.847389   35.1834          5  \n",
       "6375                          0.847389   34.9713          5  \n",
       "6376                          0.847389   34.7573          5  \n",
       "6377                          0.847389   34.6003          5  \n",
       "\n",
       "[6378 rows x 6 columns]"
      ]
     },
     "execution_count": 15,
     "metadata": {},
     "output_type": "execute_result"
    }
   ],
   "source": [
    "dataset_train"
   ]
  },
  {
   "cell_type": "code",
   "execution_count": 16,
   "metadata": {},
   "outputs": [],
   "source": [
    "dataset_test=data_test[['Velocidade média (m/s)','Comprimento médio passada','Largura da passada','Simetria do comprimento de passo','Cadência','Movimento']]"
   ]
  },
  {
   "cell_type": "code",
   "execution_count": 17,
   "metadata": {},
   "outputs": [],
   "source": [
    "datasheet_train=dataset_train.values"
   ]
  },
  {
   "cell_type": "code",
   "execution_count": 18,
   "metadata": {},
   "outputs": [],
   "source": [
    "datasheet_test=dataset_test.values"
   ]
  },
  {
   "cell_type": "code",
   "execution_count": 19,
   "metadata": {
    "scrolled": true
   },
   "outputs": [
    {
     "name": "stdout",
     "output_type": "stream",
     "text": [
      "Requirement already satisfied: sklearn in /usr/local/lib/python3.6/dist-packages (0.0)\n",
      "Requirement already satisfied: scikit-learn in /usr/local/lib/python3.6/dist-packages (from sklearn) (0.23.2)\n",
      "Requirement already satisfied: joblib>=0.11 in /usr/local/lib/python3.6/dist-packages (from scikit-learn->sklearn) (0.17.0)\n",
      "Requirement already satisfied: numpy>=1.13.3 in /usr/local/lib/python3.6/dist-packages (from scikit-learn->sklearn) (1.18.5)\n",
      "Requirement already satisfied: threadpoolctl>=2.0.0 in /usr/local/lib/python3.6/dist-packages (from scikit-learn->sklearn) (2.1.0)\n",
      "Requirement already satisfied: scipy>=0.19.1 in /usr/local/lib/python3.6/dist-packages (from scikit-learn->sklearn) (1.4.1)\n",
      "Note: you may need to restart the kernel to use updated packages.\n"
     ]
    }
   ],
   "source": [
    "pip install sklearn"
   ]
  },
  {
   "cell_type": "code",
   "execution_count": 20,
   "metadata": {},
   "outputs": [],
   "source": [
    "import random\n",
    "import sklearn\n",
    "from sklearn.utils import shuffle\n",
    "from sklearn.model_selection import StratifiedShuffleSplit\n",
    "import numpy as np\n",
    "\n",
    "##np.random.shuffle(datasheet_train)\n",
    "##np.random.shuffle(datasheet_val)\n",
    "\n"
   ]
  },
  {
   "cell_type": "code",
   "execution_count": 21,
   "metadata": {
    "scrolled": true
   },
   "outputs": [
    {
     "data": {
      "text/plain": [
       "array([[7.46370000e+00, 9.76600000e-01, 6.59300000e-01, 0.00000000e+00,\n",
       "        0.00000000e+00, 0.00000000e+00],\n",
       "       [2.83630000e+00, 9.76700000e-01, 5.43800000e-01, 0.00000000e+00,\n",
       "        1.65912300e+02, 0.00000000e+00],\n",
       "       [2.13080000e+00, 9.76800000e-01, 4.84800000e-01, 0.00000000e+00,\n",
       "        1.22870500e+02, 0.00000000e+00],\n",
       "       ...,\n",
       "       [1.59810000e+00, 9.60200000e-01, 1.41500000e-01, 8.47389417e-01,\n",
       "        3.49713000e+01, 5.00000000e+00],\n",
       "       [1.59490000e+00, 9.60200000e-01, 1.41300000e-01, 8.47389417e-01,\n",
       "        3.47573000e+01, 5.00000000e+00],\n",
       "       [1.59460000e+00, 9.60200000e-01, 1.41200000e-01, 8.47389417e-01,\n",
       "        3.46003000e+01, 5.00000000e+00]])"
      ]
     },
     "execution_count": 21,
     "metadata": {},
     "output_type": "execute_result"
    }
   ],
   "source": [
    "datasheet_train"
   ]
  },
  {
   "cell_type": "code",
   "execution_count": 22,
   "metadata": {},
   "outputs": [
    {
     "data": {
      "text/plain": [
       "array([[ 1.8012    ,  1.0676    ,  0.1719    ,  0.89614264, 75.0146    ,\n",
       "         5.        ],\n",
       "       [ 1.0815    ,  0.        ,  0.2281    ,  0.84812425, 39.3294    ,\n",
       "         3.        ],\n",
       "       [ 1.552     ,  1.0483    ,  0.1867    ,  0.91658109, 52.588     ,\n",
       "         5.        ],\n",
       "       ...,\n",
       "       [ 1.4872    ,  0.9589    ,  0.1325    ,  0.89186761, 32.6055    ,\n",
       "         3.        ],\n",
       "       [ 0.9145    ,  0.        ,  0.2973    ,  0.70900677, 26.4895    ,\n",
       "         0.        ],\n",
       "       [ 2.4731    ,  1.0732    ,  0.1847    ,  0.69044568, 79.5659    ,\n",
       "         0.        ]])"
      ]
     },
     "execution_count": 22,
     "metadata": {},
     "output_type": "execute_result"
    }
   ],
   "source": [
    "shuffle(datasheet_train)"
   ]
  },
  {
   "cell_type": "code",
   "execution_count": 23,
   "metadata": {},
   "outputs": [
    {
     "data": {
      "text/plain": [
       "array([[4.71140000e+00, 0.00000000e+00, 6.59300000e-01, 0.00000000e+00,\n",
       "        0.00000000e+00, 0.00000000e+00],\n",
       "       [2.67840000e+00, 0.00000000e+00, 5.43800000e-01, 0.00000000e+00,\n",
       "        1.56674000e+02, 0.00000000e+00],\n",
       "       [1.99590000e+00, 0.00000000e+00, 4.84800000e-01, 0.00000000e+00,\n",
       "        1.15088900e+02, 0.00000000e+00],\n",
       "       ...,\n",
       "       [1.62720000e+00, 9.60200000e-01, 1.48200000e-01, 8.47389417e-01,\n",
       "        3.46642000e+01, 5.00000000e+00],\n",
       "       [1.62180000e+00, 9.60200000e-01, 1.48700000e-01, 8.47389417e-01,\n",
       "        3.45036000e+01, 5.00000000e+00],\n",
       "       [1.61630000e+00, 9.60200000e-01, 1.49200000e-01, 8.47389417e-01,\n",
       "        3.43416000e+01, 5.00000000e+00]])"
      ]
     },
     "execution_count": 23,
     "metadata": {},
     "output_type": "execute_result"
    }
   ],
   "source": [
    "datasheet_test"
   ]
  },
  {
   "cell_type": "code",
   "execution_count": 24,
   "metadata": {},
   "outputs": [],
   "source": [
    "valores_linhas_train=datasheet_train[:,0:5]\n",
    "valores_coluna_saida_train=datasheet_train[:,5]"
   ]
  },
  {
   "cell_type": "code",
   "execution_count": 25,
   "metadata": {
    "scrolled": true
   },
   "outputs": [],
   "source": [
    "valores_linhas_test=datasheet_test[:,0:5]\n",
    "valores_coluna_saida_test=datasheet_test[:,5]"
   ]
  },
  {
   "cell_type": "code",
   "execution_count": 26,
   "metadata": {},
   "outputs": [
    {
     "data": {
      "text/plain": [
       "array([[7.46370000e+00, 9.76600000e-01, 6.59300000e-01, 0.00000000e+00,\n",
       "        0.00000000e+00],\n",
       "       [2.83630000e+00, 9.76700000e-01, 5.43800000e-01, 0.00000000e+00,\n",
       "        1.65912300e+02],\n",
       "       [2.13080000e+00, 9.76800000e-01, 4.84800000e-01, 0.00000000e+00,\n",
       "        1.22870500e+02],\n",
       "       ...,\n",
       "       [1.59810000e+00, 9.60200000e-01, 1.41500000e-01, 8.47389417e-01,\n",
       "        3.49713000e+01],\n",
       "       [1.59490000e+00, 9.60200000e-01, 1.41300000e-01, 8.47389417e-01,\n",
       "        3.47573000e+01],\n",
       "       [1.59460000e+00, 9.60200000e-01, 1.41200000e-01, 8.47389417e-01,\n",
       "        3.46003000e+01]])"
      ]
     },
     "execution_count": 26,
     "metadata": {},
     "output_type": "execute_result"
    }
   ],
   "source": [
    "valores_linhas_train"
   ]
  },
  {
   "cell_type": "code",
   "execution_count": 27,
   "metadata": {
    "scrolled": true
   },
   "outputs": [
    {
     "data": {
      "text/plain": [
       "array([0., 0., 0., ..., 5., 5., 5.])"
      ]
     },
     "execution_count": 27,
     "metadata": {},
     "output_type": "execute_result"
    }
   ],
   "source": [
    "valores_coluna_saida_train"
   ]
  },
  {
   "cell_type": "code",
   "execution_count": 28,
   "metadata": {
    "scrolled": true
   },
   "outputs": [
    {
     "data": {
      "text/plain": [
       "array([[4.71140000e+00, 0.00000000e+00, 6.59300000e-01, 0.00000000e+00,\n",
       "        0.00000000e+00],\n",
       "       [2.67840000e+00, 0.00000000e+00, 5.43800000e-01, 0.00000000e+00,\n",
       "        1.56674000e+02],\n",
       "       [1.99590000e+00, 0.00000000e+00, 4.84800000e-01, 0.00000000e+00,\n",
       "        1.15088900e+02],\n",
       "       ...,\n",
       "       [1.62720000e+00, 9.60200000e-01, 1.48200000e-01, 8.47389417e-01,\n",
       "        3.46642000e+01],\n",
       "       [1.62180000e+00, 9.60200000e-01, 1.48700000e-01, 8.47389417e-01,\n",
       "        3.45036000e+01],\n",
       "       [1.61630000e+00, 9.60200000e-01, 1.49200000e-01, 8.47389417e-01,\n",
       "        3.43416000e+01]])"
      ]
     },
     "execution_count": 28,
     "metadata": {},
     "output_type": "execute_result"
    }
   ],
   "source": [
    "valores_linhas_test\n",
    "\n"
   ]
  },
  {
   "cell_type": "code",
   "execution_count": 29,
   "metadata": {},
   "outputs": [
    {
     "data": {
      "text/plain": [
       "array([0., 0., 0., ..., 5., 5., 5.])"
      ]
     },
     "execution_count": 29,
     "metadata": {},
     "output_type": "execute_result"
    }
   ],
   "source": [
    "valores_coluna_saida_test"
   ]
  },
  {
   "cell_type": "code",
   "execution_count": 30,
   "metadata": {},
   "outputs": [],
   "source": [
    "from imblearn.over_sampling import SMOTE\n",
    "from imblearn.under_sampling import NearMiss\n",
    "import seaborn as sn\n",
    "\n",
    "nr = NearMiss() #Undersampling\n",
    "smt = SMOTE() #Oversampling"
   ]
  },
  {
   "cell_type": "code",
   "execution_count": 31,
   "metadata": {},
   "outputs": [],
   "source": [
    "valores_linhas_train, valores_coluna_saida_train = smt.fit_sample(valores_linhas_train, valores_coluna_saida_train)"
   ]
  },
  {
   "cell_type": "code",
   "execution_count": 32,
   "metadata": {},
   "outputs": [],
   "source": [
    "#valores_linhas_val, valores_coluna_saida_val = smt.fit_sample(valores_linhas_val, valores_coluna_saida_val)\n"
   ]
  },
  {
   "cell_type": "code",
   "execution_count": 33,
   "metadata": {
    "scrolled": true
   },
   "outputs": [
    {
     "name": "stdout",
     "output_type": "stream",
     "text": [
      "Requirement already satisfied: sklearn in /usr/local/lib/python3.6/dist-packages (0.0)\n",
      "Requirement already satisfied: scikit-learn in /usr/local/lib/python3.6/dist-packages (from sklearn) (0.23.2)\n",
      "Requirement already satisfied: threadpoolctl>=2.0.0 in /usr/local/lib/python3.6/dist-packages (from scikit-learn->sklearn) (2.1.0)\n",
      "Requirement already satisfied: numpy>=1.13.3 in /usr/local/lib/python3.6/dist-packages (from scikit-learn->sklearn) (1.18.5)\n",
      "Requirement already satisfied: joblib>=0.11 in /usr/local/lib/python3.6/dist-packages (from scikit-learn->sklearn) (0.17.0)\n",
      "Requirement already satisfied: scipy>=0.19.1 in /usr/local/lib/python3.6/dist-packages (from scikit-learn->sklearn) (1.4.1)\n"
     ]
    }
   ],
   "source": [
    "!pip3 install sklearn \n",
    "import sklearn as sk\n",
    "from sklearn import preprocessing\n",
    "\n",
    "#min_max_escalar=preprocessing.MinMaxScaler()\n",
    "#X_normalizado=min_max_escalar.fit_transform(valores_linhas)\n"
   ]
  },
  {
   "cell_type": "markdown",
   "metadata": {},
   "source": [
    "# StratifieldShufflerSplit\n",
    "### Quando se usa o mesmo dataset tanto para o treino e para a validação na proporção de 70/30"
   ]
  },
  {
   "cell_type": "code",
   "execution_count": 34,
   "metadata": {},
   "outputs": [],
   "source": [
    "#StratifieldShufflerSplit\n",
    "sss = StratifiedShuffleSplit(n_splits=6, test_size=0.3, random_state=1)\n",
    "for train_index, test_index in sss.split(valores_linhas_train,valores_coluna_saida_train):\n",
    "    X_train, X_test = valores_linhas_train[train_index], valores_linhas_train[test_index]\n",
    "    Y_train, Y_test = valores_coluna_saida_train[train_index], valores_coluna_saida_train[test_index]"
   ]
  },
  {
   "cell_type": "code",
   "execution_count": 35,
   "metadata": {},
   "outputs": [],
   "source": [
    "from sklearn.model_selection import train_test_split\n",
    "\n",
    "X_train, X_val, Y_train, Y_val = train_test_split(X_train, Y_train, test_size=0.2, shuffle=True) # test_size é o percentual do dataset que vai ser usado nas amostras\n",
    "\n"
   ]
  },
  {
   "cell_type": "markdown",
   "metadata": {},
   "source": [
    "# Para o treino com um dataset e  validação com o de 4 ciclos\n"
   ]
  },
  {
   "cell_type": "code",
   "execution_count": 36,
   "metadata": {},
   "outputs": [],
   "source": [
    "#X_train, X_test, Y_train, Y_test =valores_linhas_train,valores_linhas_test,valores_coluna_saida_train,valores_coluna_saida_test\n",
    "#X_train, X_val, Y_train, Y_val = train_test_split(X_train, Y_train, test_size=0.25) # test_size é o percentual do dataset que vai ser usado nas amostras\n"
   ]
  },
  {
   "cell_type": "code",
   "execution_count": 37,
   "metadata": {
    "scrolled": false
   },
   "outputs": [
    {
     "data": {
      "text/plain": [
       "(10069, 5)"
      ]
     },
     "execution_count": 37,
     "metadata": {},
     "output_type": "execute_result"
    }
   ],
   "source": [
    "X_train.shape"
   ]
  },
  {
   "cell_type": "code",
   "execution_count": 38,
   "metadata": {
    "scrolled": false
   },
   "outputs": [
    {
     "data": {
      "text/plain": [
       "(2518, 5)"
      ]
     },
     "execution_count": 38,
     "metadata": {},
     "output_type": "execute_result"
    }
   ],
   "source": [
    "X_val.shape"
   ]
  },
  {
   "cell_type": "code",
   "execution_count": 39,
   "metadata": {
    "scrolled": false
   },
   "outputs": [
    {
     "data": {
      "text/plain": [
       "(5395, 5)"
      ]
     },
     "execution_count": 39,
     "metadata": {},
     "output_type": "execute_result"
    }
   ],
   "source": [
    "X_test.shape"
   ]
  },
  {
   "cell_type": "code",
   "execution_count": 40,
   "metadata": {
    "scrolled": true
   },
   "outputs": [
    {
     "data": {
      "text/plain": [
       "10069"
      ]
     },
     "execution_count": 40,
     "metadata": {},
     "output_type": "execute_result"
    }
   ],
   "source": [
    "len(X_train)"
   ]
  },
  {
   "cell_type": "code",
   "execution_count": 41,
   "metadata": {},
   "outputs": [
    {
     "data": {
      "text/plain": [
       "10069"
      ]
     },
     "execution_count": 41,
     "metadata": {},
     "output_type": "execute_result"
    }
   ],
   "source": [
    "len(Y_train)\n"
   ]
  },
  {
   "cell_type": "code",
   "execution_count": 42,
   "metadata": {
    "scrolled": true
   },
   "outputs": [
    {
     "data": {
      "text/plain": [
       "2518"
      ]
     },
     "execution_count": 42,
     "metadata": {},
     "output_type": "execute_result"
    }
   ],
   "source": [
    "len(X_val)"
   ]
  },
  {
   "cell_type": "code",
   "execution_count": 43,
   "metadata": {},
   "outputs": [
    {
     "data": {
      "text/plain": [
       "2518"
      ]
     },
     "execution_count": 43,
     "metadata": {},
     "output_type": "execute_result"
    }
   ],
   "source": [
    "len(Y_val)"
   ]
  },
  {
   "cell_type": "code",
   "execution_count": 44,
   "metadata": {},
   "outputs": [
    {
     "data": {
      "text/plain": [
       "5395"
      ]
     },
     "execution_count": 44,
     "metadata": {},
     "output_type": "execute_result"
    }
   ],
   "source": [
    "len(X_test)"
   ]
  },
  {
   "cell_type": "code",
   "execution_count": 45,
   "metadata": {},
   "outputs": [
    {
     "data": {
      "text/plain": [
       "5395"
      ]
     },
     "execution_count": 45,
     "metadata": {},
     "output_type": "execute_result"
    }
   ],
   "source": [
    "len(Y_test)"
   ]
  },
  {
   "cell_type": "code",
   "execution_count": 46,
   "metadata": {},
   "outputs": [
    {
     "name": "stdout",
     "output_type": "stream",
     "text": [
      "Requirement already satisfied: sklearn in /usr/local/lib/python3.6/dist-packages (0.0)\n",
      "Requirement already satisfied: scikit-learn in /usr/local/lib/python3.6/dist-packages (from sklearn) (0.23.2)\n",
      "Requirement already satisfied: threadpoolctl>=2.0.0 in /usr/local/lib/python3.6/dist-packages (from scikit-learn->sklearn) (2.1.0)\n",
      "Requirement already satisfied: numpy>=1.13.3 in /usr/local/lib/python3.6/dist-packages (from scikit-learn->sklearn) (1.18.5)\n",
      "Requirement already satisfied: scipy>=0.19.1 in /usr/local/lib/python3.6/dist-packages (from scikit-learn->sklearn) (1.4.1)\n",
      "Requirement already satisfied: joblib>=0.11 in /usr/local/lib/python3.6/dist-packages (from scikit-learn->sklearn) (0.17.0)\n"
     ]
    }
   ],
   "source": [
    "!pip3 install sklearn \n",
    "import sklearn as sk\n",
    "from sklearn import preprocessing\n",
    "\n",
    "min_max_escalar=preprocessing.StandardScaler()  # MinMaxScaler()\n",
    "X_train=min_max_escalar.fit_transform(X_train)\n",
    "X_test=min_max_escalar.fit_transform(X_test)\n",
    "X_val=min_max_escalar.fit_transform(X_val)\n"
   ]
  },
  {
   "cell_type": "code",
   "execution_count": 47,
   "metadata": {},
   "outputs": [
    {
     "data": {
      "text/plain": [
       "array([[-0.13545677,  0.27653973, -0.07869391, -0.18714069,  0.38426281],\n",
       "       [ 0.52825497, -2.06611097,  1.64170522, -1.30625334,  1.22946379],\n",
       "       [-0.3494737 ,  0.44080944, -0.56950232, -0.22034322, -0.64307353],\n",
       "       ...,\n",
       "       [ 5.29295864, -2.06611097,  4.58854771,  0.45840005, -2.13924795],\n",
       "       [-0.65460232, -1.89633721,  2.00253498, -0.41862223, -0.32040182],\n",
       "       [-1.05527905, -2.06611097, -0.05784269,  0.94290786, -1.26396049]])"
      ]
     },
     "execution_count": 47,
     "metadata": {},
     "output_type": "execute_result"
    }
   ],
   "source": [
    "X_train"
   ]
  },
  {
   "cell_type": "code",
   "execution_count": 48,
   "metadata": {},
   "outputs": [
    {
     "data": {
      "text/plain": [
       "array([[ 0.18898963,  0.47937799, -0.78493929,  0.48401251, -0.07436153],\n",
       "       [-0.37190334,  0.4872578 ,  0.30150739,  0.45669653,  0.14782589],\n",
       "       [-0.25389696, -2.03921624,  1.9162272 , -1.8998209 ,  1.05201408],\n",
       "       ...,\n",
       "       [ 0.23097218,  0.34948942, -0.69552114, -0.27492516, -0.28760024],\n",
       "       [-0.13149093,  0.32607146, -0.94066116,  0.44482471,  0.06790664],\n",
       "       [-0.23191899,  0.52938584,  0.05716142,  0.41303186,  1.32912147]])"
      ]
     },
     "execution_count": 48,
     "metadata": {},
     "output_type": "execute_result"
    }
   ],
   "source": [
    "X_val"
   ]
  },
  {
   "cell_type": "code",
   "execution_count": 49,
   "metadata": {},
   "outputs": [
    {
     "data": {
      "text/plain": [
       "array([[-1.42914374e-01,  3.23475434e-01, -4.58778642e-01,\n",
       "        -4.36457950e-01,  3.46737856e-04],\n",
       "       [ 4.27089701e-01,  3.26931075e-01, -8.54402512e-01,\n",
       "         5.63528667e-01,  5.79352555e-01],\n",
       "       [ 9.05638456e-01, -2.12446513e+00, -1.73369915e-01,\n",
       "        -2.81814166e+00,  1.81256232e-01],\n",
       "       ...,\n",
       "       [ 8.74315918e-02,  2.10118204e-01,  4.75953903e-01,\n",
       "        -5.90701890e-01,  4.98275432e-01],\n",
       "       [ 2.86931125e-01,  4.15670673e-01, -5.94847895e-01,\n",
       "         1.14536339e-01,  4.66635349e-01],\n",
       "       [-4.49780007e-02,  4.54163428e-01, -1.05668450e-01,\n",
       "         6.81607283e-01, -3.29706267e-01]])"
      ]
     },
     "execution_count": 49,
     "metadata": {},
     "output_type": "execute_result"
    }
   ],
   "source": [
    "X_test"
   ]
  },
  {
   "cell_type": "code",
   "execution_count": 50,
   "metadata": {},
   "outputs": [],
   "source": [
    "#%reload_ext tensorboard"
   ]
  },
  {
   "cell_type": "code",
   "execution_count": 51,
   "metadata": {},
   "outputs": [],
   "source": [
    "#!rm -rf ./logs/ "
   ]
  },
  {
   "cell_type": "code",
   "execution_count": 52,
   "metadata": {},
   "outputs": [],
   "source": [
    "#X_train=X_train.reshape([-1,1, 5])\n",
    "#X_val=X_val.reshape([-1,1, 5])"
   ]
  },
  {
   "cell_type": "code",
   "execution_count": 53,
   "metadata": {},
   "outputs": [],
   "source": [
    "# %load_ext tensorboard"
   ]
  },
  {
   "cell_type": "code",
   "execution_count": 54,
   "metadata": {
    "scrolled": true
   },
   "outputs": [],
   "source": [
    "from tensorflow.keras.models import Sequential\n",
    "from tensorflow.keras import regularizers\n",
    "from tensorflow.keras.layers import Dropout\n",
    "from tensorflow.keras.layers import Dense\n",
    "from keras.optimizers import RMSprop\n",
    "\n",
    "model = Sequential([\n",
    "    Dense(200, activation='relu', input_shape=(5,), kernel_regularizer=regularizers.l2(0.00175)),\n",
    "    Dropout(0.3),\n",
    "    Dense(4000, kernel_regularizer=regularizers.l2(0.0015),activation='relu'),\n",
    "    Dropout(0.3),\n",
    "    #Dense(4000, kernel_regularizer=regularizers.l2(0.0015),activation='relu'),\n",
    "    #Dropout(0.3),\n",
    "    Dense(4000, kernel_regularizer=regularizers.l2(0.0001),activation='relu'),\n",
    "    Dropout(0.3),\n",
    "    #Dense(4000, kernel_regularizer=regularizers.l2(0.000175),activation='relu'),\n",
    "    #Dropout(0.3),\n",
    "    Dense(200, kernel_regularizer=regularizers.l2(0.0015),activation='relu'),\n",
    "    Dropout(0.3),\n",
    "##    Dense(200, activation='relu', input_shape=(5,), kernel_regularizer=regularizers.l2(0.00175)),\n",
    "##    Dropout(0.3),\n",
    "##    Dense(400, kernel_regularizer=regularizers.l2(0.0015),activation='relu'),\n",
    "##    Dropout(0.3),\n",
    "##    Dense(400, kernel_regularizer=regularizers.l2(0.0001),activation='relu'),\n",
    "##    Dropout(0.3),\n",
    "##    Dense(400, kernel_regularizer=regularizers.l2(0.000175),activation='relu'),\n",
    "##    Dropout(0.3),\n",
    "##    Dense(400, kernel_regularizer=regularizers.l2(0.0015),activation='relu'),\n",
    "##    Dropout(0.3),\n",
    "##    Dense(400, kernel_regularizer=regularizers.l2(0.0002),activation='relu'),\n",
    "##    Dropout(0.3),\n",
    "    #Dense(100, kernel_regularizer=regularizers.l2(0.0002),activation='relu'),\n",
    "    #Dropout(0.3),\n",
    "    #Dense(100, kernel_regularizer=regularizers.l2(0.0001),activation='relu'),\n",
    "    #Dropout(0.3),\n",
    "    #Dense(100, kernel_regularizer=regularizers.l2(0.0002),activation='relu'),\n",
    "    #Dropout(0.3),\n",
    "    #Dense(100, kernel_regularizer=regularizers.l2(0.0002),activation='relu'),\n",
    "    #Dropout(0.3),\n",
    "    Dense(6, activation='softmax')\n",
    "])\n",
    "#model = Sequential([\n",
    "#   Dense(350, activation='relu', input_shape=(5,), kernel_regularizer=regularizers.l2(0.000175)),\n",
    "#    Dropout(0.35),\n",
    "    #Dense(350, activation='relu', kernel_regularizer=regularizers.l2(0.000025)),\n",
    "    #Dropout(0.35),\n",
    "    #Dense(350, activation='relu', kernel_regularizer=regularizers.l2(0.000025)),\n",
    "    #Dropout(0.3),\n",
    "#    Dense(1, activation='sigmoid'),\n",
    "#])"
   ]
  },
  {
   "cell_type": "code",
   "execution_count": 55,
   "metadata": {
    "scrolled": false
   },
   "outputs": [
    {
     "name": "stdout",
     "output_type": "stream",
     "text": [
      "Model: \"sequential\"\n",
      "_________________________________________________________________\n",
      "Layer (type)                 Output Shape              Param #   \n",
      "=================================================================\n",
      "dense (Dense)                (None, 200)               1200      \n",
      "_________________________________________________________________\n",
      "dropout (Dropout)            (None, 200)               0         \n",
      "_________________________________________________________________\n",
      "dense_1 (Dense)              (None, 4000)              804000    \n",
      "_________________________________________________________________\n",
      "dropout_1 (Dropout)          (None, 4000)              0         \n",
      "_________________________________________________________________\n",
      "dense_2 (Dense)              (None, 4000)              16004000  \n",
      "_________________________________________________________________\n",
      "dropout_2 (Dropout)          (None, 4000)              0         \n",
      "_________________________________________________________________\n",
      "dense_3 (Dense)              (None, 200)               800200    \n",
      "_________________________________________________________________\n",
      "dropout_3 (Dropout)          (None, 200)               0         \n",
      "_________________________________________________________________\n",
      "dense_4 (Dense)              (None, 6)                 1206      \n",
      "=================================================================\n",
      "Total params: 17,610,606\n",
      "Trainable params: 17,610,606\n",
      "Non-trainable params: 0\n",
      "_________________________________________________________________\n"
     ]
    }
   ],
   "source": [
    "model.summary()"
   ]
  },
  {
   "cell_type": "code",
   "execution_count": 56,
   "metadata": {},
   "outputs": [],
   "source": [
    "import time"
   ]
  },
  {
   "cell_type": "code",
   "execution_count": 57,
   "metadata": {},
   "outputs": [],
   "source": [
    "tempo_inicial=time.time()"
   ]
  },
  {
   "cell_type": "code",
   "execution_count": 58,
   "metadata": {
    "scrolled": true
   },
   "outputs": [],
   "source": [
    "model.compile(optimizer=RMSprop(),\n",
    "               loss=tf.keras.losses.SparseCategoricalCrossentropy(),#loss=tf.keras.losses.SparseCategoricalCrossentropy(from_logits=True),\n",
    "              metrics=['mae','accuracy'])#,keras.metrics.Recall(),keras.metrics.Precision()])\n",
    "\n",
    "\n",
    "##model.compile(optimizer='RMSprop',\n",
    "##              loss=tf.keras.losses.SparseCategoricalCrossentropy(from_logits=True),\n",
    "##              metrics=['mse','accuracy'])#,keras.metrics.Recall(),keras.metrics.Precision()])\n",
    "\n",
    "#NAME=(\"Model-of-{}\",int(time.time()))\n",
    "#tensorboard = TensorBoard(log_dir=\"logs/{}\".format(NAME))\n",
    "#logdir = os.path.join(\"logs\", datetime.datetime.now().strftime(\"%Y%m%d-%H%M%S\"))\n",
    "#tensorboard_callback = tf.keras.callbacks.TensorBoard(logdir, histogram_freq=1)"
   ]
  },
  {
   "cell_type": "code",
   "execution_count": 59,
   "metadata": {},
   "outputs": [],
   "source": [
    "class_weight = {\n",
    "    0: 1.0,#4.87,\n",
    "    1: 1.0,#3.639,\n",
    "    2: 1.0,#5.726,\n",
    "    3: 1.0,#3.7615,\n",
    "    4: 1.0,#4.85946,\n",
    "    5: 1.0,\n",
    "}"
   ]
  },
  {
   "cell_type": "code",
   "execution_count": 60,
   "metadata": {
    "scrolled": true
   },
   "outputs": [
    {
     "name": "stdout",
     "output_type": "stream",
     "text": [
      "Train on 10069 samples, validate on 2518 samples\n",
      "Epoch 1/1000\n",
      "10064/10069 [============================>.] - ETA: 0s - loss: 1.3165 - mean_absolute_error: 2.3950 - acc: 0.6173WARNING:tensorflow:From /usr/local/lib/python3.6/dist-packages/tensorflow/python/keras/engine/training_v1.py:2048: Model.state_updates (from tensorflow.python.keras.engine.training) is deprecated and will be removed in a future version.\n",
      "Instructions for updating:\n",
      "This property should not be used in TensorFlow 2.0, as updates are applied automatically.\n",
      "10069/10069 [==============================] - 20s 2ms/sample - loss: 1.3164 - mean_absolute_error: 2.3947 - acc: 0.6173 - val_loss: 1.1898 - val_mean_absolute_error: 2.3663 - val_acc: 0.6295\n",
      "Epoch 2/1000\n",
      "10069/10069 [==============================] - 19s 2ms/sample - loss: 0.9428 - mean_absolute_error: 2.3947 - acc: 0.7191 - val_loss: 0.8457 - val_mean_absolute_error: 2.3663 - val_acc: 0.7514\n",
      "Epoch 3/1000\n",
      "10069/10069 [==============================] - 19s 2ms/sample - loss: 0.8685 - mean_absolute_error: 2.3947 - acc: 0.7433 - val_loss: 0.7582 - val_mean_absolute_error: 2.3663 - val_acc: 0.7923\n",
      "Epoch 4/1000\n",
      "10069/10069 [==============================] - 19s 2ms/sample - loss: 0.8270 - mean_absolute_error: 2.3947 - acc: 0.7603 - val_loss: 0.7295 - val_mean_absolute_error: 2.3663 - val_acc: 0.7828\n",
      "Epoch 5/1000\n",
      "10069/10069 [==============================] - 19s 2ms/sample - loss: 0.7985 - mean_absolute_error: 2.3947 - acc: 0.7704 - val_loss: 0.7003 - val_mean_absolute_error: 2.3663 - val_acc: 0.8026\n",
      "Epoch 6/1000\n",
      "10069/10069 [==============================] - 19s 2ms/sample - loss: 0.7718 - mean_absolute_error: 2.3947 - acc: 0.7792 - val_loss: 0.7407 - val_mean_absolute_error: 2.3663 - val_acc: 0.7824\n",
      "Epoch 7/1000\n",
      "10069/10069 [==============================] - 19s 2ms/sample - loss: 0.7580 - mean_absolute_error: 2.3947 - acc: 0.7826 - val_loss: 0.6988 - val_mean_absolute_error: 2.3663 - val_acc: 0.8026\n",
      "Epoch 8/1000\n",
      "10069/10069 [==============================] - 19s 2ms/sample - loss: 0.7513 - mean_absolute_error: 2.3947 - acc: 0.7862 - val_loss: 0.6810 - val_mean_absolute_error: 2.3663 - val_acc: 0.8010\n",
      "Epoch 9/1000\n",
      "10069/10069 [==============================] - 19s 2ms/sample - loss: 0.7344 - mean_absolute_error: 2.3947 - acc: 0.7877 - val_loss: 0.6540 - val_mean_absolute_error: 2.3663 - val_acc: 0.8173\n",
      "Epoch 10/1000\n",
      "10069/10069 [==============================] - 19s 2ms/sample - loss: 0.7323 - mean_absolute_error: 2.3947 - acc: 0.7916 - val_loss: 0.6393 - val_mean_absolute_error: 2.3663 - val_acc: 0.8169\n",
      "Epoch 11/1000\n",
      "10069/10069 [==============================] - 19s 2ms/sample - loss: 0.7206 - mean_absolute_error: 2.3947 - acc: 0.7960 - val_loss: 0.6335 - val_mean_absolute_error: 2.3663 - val_acc: 0.8257\n",
      "Epoch 12/1000\n",
      "10069/10069 [==============================] - 19s 2ms/sample - loss: 0.7123 - mean_absolute_error: 2.3947 - acc: 0.7952 - val_loss: 0.6219 - val_mean_absolute_error: 2.3663 - val_acc: 0.8225\n",
      "Epoch 13/1000\n",
      "10069/10069 [==============================] - 19s 2ms/sample - loss: 0.7086 - mean_absolute_error: 2.3947 - acc: 0.7973 - val_loss: 0.6121 - val_mean_absolute_error: 2.3663 - val_acc: 0.8288\n",
      "Epoch 14/1000\n",
      "10069/10069 [==============================] - 19s 2ms/sample - loss: 0.7040 - mean_absolute_error: 2.3947 - acc: 0.7998 - val_loss: 0.5964 - val_mean_absolute_error: 2.3663 - val_acc: 0.8316\n",
      "Epoch 15/1000\n",
      "10069/10069 [==============================] - 20s 2ms/sample - loss: 0.7015 - mean_absolute_error: 2.3947 - acc: 0.8010 - val_loss: 0.5989 - val_mean_absolute_error: 2.3663 - val_acc: 0.8241\n",
      "Epoch 16/1000\n",
      "10069/10069 [==============================] - 19s 2ms/sample - loss: 0.7000 - mean_absolute_error: 2.3947 - acc: 0.8012 - val_loss: 0.5865 - val_mean_absolute_error: 2.3663 - val_acc: 0.8376\n",
      "Epoch 17/1000\n",
      "10069/10069 [==============================] - 19s 2ms/sample - loss: 0.6875 - mean_absolute_error: 2.3947 - acc: 0.8074 - val_loss: 0.6232 - val_mean_absolute_error: 2.3663 - val_acc: 0.8193\n",
      "Epoch 18/1000\n",
      "10069/10069 [==============================] - 20s 2ms/sample - loss: 0.6954 - mean_absolute_error: 2.3947 - acc: 0.8040 - val_loss: 0.6560 - val_mean_absolute_error: 2.3663 - val_acc: 0.8110\n",
      "Epoch 19/1000\n",
      "10069/10069 [==============================] - 19s 2ms/sample - loss: 0.6974 - mean_absolute_error: 2.3947 - acc: 0.8017 - val_loss: 0.5866 - val_mean_absolute_error: 2.3663 - val_acc: 0.8388\n",
      "Epoch 20/1000\n",
      "10069/10069 [==============================] - 19s 2ms/sample - loss: 0.6801 - mean_absolute_error: 2.3947 - acc: 0.8053 - val_loss: 0.5866 - val_mean_absolute_error: 2.3663 - val_acc: 0.8364\n",
      "Epoch 21/1000\n",
      "10069/10069 [==============================] - 19s 2ms/sample - loss: 0.6817 - mean_absolute_error: 2.3947 - acc: 0.8090 - val_loss: 0.6211 - val_mean_absolute_error: 2.3663 - val_acc: 0.8268\n",
      "Epoch 22/1000\n",
      "10069/10069 [==============================] - 20s 2ms/sample - loss: 0.6866 - mean_absolute_error: 2.3947 - acc: 0.8087 - val_loss: 0.5936 - val_mean_absolute_error: 2.3663 - val_acc: 0.8384\n",
      "Epoch 23/1000\n",
      "10069/10069 [==============================] - 20s 2ms/sample - loss: 0.6740 - mean_absolute_error: 2.3947 - acc: 0.8119 - val_loss: 0.5820 - val_mean_absolute_error: 2.3663 - val_acc: 0.8392\n",
      "Epoch 24/1000\n",
      "10069/10069 [==============================] - 20s 2ms/sample - loss: 0.6789 - mean_absolute_error: 2.3947 - acc: 0.8128 - val_loss: 0.5590 - val_mean_absolute_error: 2.3663 - val_acc: 0.8407\n",
      "Epoch 25/1000\n",
      "10069/10069 [==============================] - 20s 2ms/sample - loss: 0.6789 - mean_absolute_error: 2.3947 - acc: 0.8083 - val_loss: 0.5855 - val_mean_absolute_error: 2.3663 - val_acc: 0.8376\n",
      "Epoch 26/1000\n",
      "10069/10069 [==============================] - 20s 2ms/sample - loss: 0.6759 - mean_absolute_error: 2.3947 - acc: 0.8109 - val_loss: 0.6061 - val_mean_absolute_error: 2.3663 - val_acc: 0.8268\n",
      "Epoch 27/1000\n",
      "10069/10069 [==============================] - 20s 2ms/sample - loss: 0.6716 - mean_absolute_error: 2.3947 - acc: 0.8066 - val_loss: 0.5716 - val_mean_absolute_error: 2.3663 - val_acc: 0.8503\n",
      "Epoch 28/1000\n",
      "10069/10069 [==============================] - 20s 2ms/sample - loss: 0.6687 - mean_absolute_error: 2.3947 - acc: 0.8118 - val_loss: 0.5565 - val_mean_absolute_error: 2.3663 - val_acc: 0.8499\n",
      "Epoch 29/1000\n",
      "10069/10069 [==============================] - 19s 2ms/sample - loss: 0.6637 - mean_absolute_error: 2.3947 - acc: 0.8119 - val_loss: 0.5920 - val_mean_absolute_error: 2.3663 - val_acc: 0.8328\n",
      "Epoch 30/1000\n",
      "10069/10069 [==============================] - 20s 2ms/sample - loss: 0.6581 - mean_absolute_error: 2.3947 - acc: 0.8137 - val_loss: 0.5590 - val_mean_absolute_error: 2.3663 - val_acc: 0.8539\n",
      "Epoch 31/1000\n",
      "10069/10069 [==============================] - 20s 2ms/sample - loss: 0.6737 - mean_absolute_error: 2.3947 - acc: 0.8140 - val_loss: 0.5799 - val_mean_absolute_error: 2.3663 - val_acc: 0.8344\n",
      "Epoch 32/1000\n",
      "10069/10069 [==============================] - 20s 2ms/sample - loss: 0.6582 - mean_absolute_error: 2.3947 - acc: 0.8117 - val_loss: 0.5808 - val_mean_absolute_error: 2.3663 - val_acc: 0.8344\n",
      "Epoch 33/1000\n",
      "10069/10069 [==============================] - 20s 2ms/sample - loss: 0.6574 - mean_absolute_error: 2.3947 - acc: 0.8154 - val_loss: 0.5742 - val_mean_absolute_error: 2.3663 - val_acc: 0.8459\n",
      "Epoch 34/1000\n",
      "10069/10069 [==============================] - 20s 2ms/sample - loss: 0.6649 - mean_absolute_error: 2.3947 - acc: 0.8178 - val_loss: 0.5591 - val_mean_absolute_error: 2.3663 - val_acc: 0.8435\n",
      "Epoch 35/1000\n",
      "10069/10069 [==============================] - 20s 2ms/sample - loss: 0.6580 - mean_absolute_error: 2.3947 - acc: 0.8157 - val_loss: 0.5405 - val_mean_absolute_error: 2.3663 - val_acc: 0.8487\n",
      "Epoch 36/1000\n",
      "10069/10069 [==============================] - 20s 2ms/sample - loss: 0.6580 - mean_absolute_error: 2.3947 - acc: 0.8188 - val_loss: 0.5422 - val_mean_absolute_error: 2.3663 - val_acc: 0.8511\n",
      "Epoch 37/1000\n",
      "10069/10069 [==============================] - 20s 2ms/sample - loss: 0.6498 - mean_absolute_error: 2.3947 - acc: 0.8182 - val_loss: 0.5547 - val_mean_absolute_error: 2.3663 - val_acc: 0.8471\n",
      "Epoch 38/1000\n"
     ]
    },
    {
     "name": "stdout",
     "output_type": "stream",
     "text": [
      "10069/10069 [==============================] - 19s 2ms/sample - loss: 0.6671 - mean_absolute_error: 2.3947 - acc: 0.8121 - val_loss: 0.6295 - val_mean_absolute_error: 2.3663 - val_acc: 0.8122\n",
      "Epoch 39/1000\n",
      "10069/10069 [==============================] - 19s 2ms/sample - loss: 0.6510 - mean_absolute_error: 2.3947 - acc: 0.8230 - val_loss: 0.5533 - val_mean_absolute_error: 2.3663 - val_acc: 0.8439\n",
      "Epoch 40/1000\n",
      "10069/10069 [==============================] - 19s 2ms/sample - loss: 0.6677 - mean_absolute_error: 2.3947 - acc: 0.8134 - val_loss: 0.5456 - val_mean_absolute_error: 2.3663 - val_acc: 0.8511\n",
      "Epoch 00040: early stopping\n"
     ]
    }
   ],
   "source": [
    "es = tf.keras.callbacks.EarlyStopping(monitor='val_acc', mode='max', verbose=0.0001, patience=10)\n",
    "\n",
    "historico = model.fit(X_train, Y_train,class_weight=class_weight,shuffle=True,\n",
    "          batch_size=16, epochs=1000,\n",
    "          validation_data=(X_val, Y_val),callbacks=[es])"
   ]
  },
  {
   "cell_type": "code",
   "execution_count": 61,
   "metadata": {
    "scrolled": true
   },
   "outputs": [
    {
     "name": "stdout",
     "output_type": "stream",
     "text": [
      "Tempo em segundos do processo de treino usando  784.282518863678s\n"
     ]
    }
   ],
   "source": [
    "print(\"Tempo em segundos do processo de treino usando \", str(time.time()-tempo_inicial) + \"s\" )"
   ]
  },
  {
   "cell_type": "code",
   "execution_count": 62,
   "metadata": {},
   "outputs": [],
   "source": [
    "#print(\"Tempo em segundos usando \" + str(per_process_gpu_memory_fraction*100) +  \" % da GPU: \", str(time.time()-tempo_inicial) + \"s\" )"
   ]
  },
  {
   "cell_type": "code",
   "execution_count": 63,
   "metadata": {
    "scrolled": false
   },
   "outputs": [
    {
     "data": {
      "text/plain": [
       "[0.5456161882027072, 2.3662963, 0.85107225]"
      ]
     },
     "execution_count": 63,
     "metadata": {},
     "output_type": "execute_result"
    }
   ],
   "source": [
    "model.evaluate(X_val,Y_val)"
   ]
  },
  {
   "cell_type": "code",
   "execution_count": 64,
   "metadata": {
    "scrolled": false
   },
   "outputs": [
    {
     "data": {
      "text/plain": [
       "[0.5024097165318967, 2.3886, 0.86839664]"
      ]
     },
     "execution_count": 64,
     "metadata": {},
     "output_type": "execute_result"
    }
   ],
   "source": [
    "    model.evaluate(X_test,Y_test)"
   ]
  },
  {
   "cell_type": "code",
   "execution_count": 65,
   "metadata": {},
   "outputs": [],
   "source": [
    "import matplotlib.pyplot as plot"
   ]
  },
  {
   "cell_type": "code",
   "execution_count": 66,
   "metadata": {
    "scrolled": true
   },
   "outputs": [
    {
     "data": {
      "image/png": "[encoded data removed]",
      "text/plain": [
       "<Figure size 432x288 with 1 Axes>"
      ]
     },
     "metadata": {
      "needs_background": "light"
     },
     "output_type": "display_data"
    }
   ],
   "source": [
    "plot.plot(historico.history['loss'])\n",
    "plot.plot(historico.history['val_loss'])\n",
    "plot.title('Model loss')\n",
    "plot.ylabel('Loss')\n",
    "plot.xlabel('Epoch')\n",
    "plot.legend(['Train', 'Val'], loc='upper right')\n",
    "plt.savefig(\"Perdas_6_movimentos.png\")\n",
    "plot.show()"
   ]
  },
  {
   "cell_type": "code",
   "execution_count": 67,
   "metadata": {
    "scrolled": false
   },
   "outputs": [
    {
     "data": {
      "image/png": "[encoded data removed]",
      "text/plain": [
       "<Figure size 432x288 with 1 Axes>"
      ]
     },
     "metadata": {
      "needs_background": "light"
     },
     "output_type": "display_data"
    }
   ],
   "source": [
    "plt.plot(historico.history['acc'])\n",
    "plt.plot(historico.history['val_acc'])\n",
    "plt.title('Model accuracy')\n",
    "plt.ylabel('Accuracy')\n",
    "plt.xlabel('Epoch')\n",
    "plt.legend(['Train', 'Val'], loc='lower right')\n",
    "plt.savefig(\"Acuracia_6_movimentos.png\")\n",
    "plt.show()"
   ]
  },
  {
   "cell_type": "code",
   "execution_count": 68,
   "metadata": {},
   "outputs": [
    {
     "data": {
      "image/png": "[encoded data removed]",
      "text/plain": [
       "<Figure size 432x288 with 1 Axes>"
      ]
     },
     "metadata": {
      "needs_background": "light"
     },
     "output_type": "display_data"
    }
   ],
   "source": [
    "#Erro \n",
    "plot.plot(historico.history['mean_absolute_error'])\n",
    "#plot.plot(historico.history['mean_squared_error'])\n",
    "plot.title('Erro quadrático')\n",
    "plot.ylabel('Erro absoluto')\n",
    "plot.xlabel('Epoch')\n",
    "plot.legend(['MAE'], loc='lower right')\n",
    "plt.savefig(\"Erro_quadratico_6_movimentos.png\")\n",
    "plot.show()"
   ]
  },
  {
   "cell_type": "code",
   "execution_count": 69,
   "metadata": {},
   "outputs": [
    {
     "name": "stdout",
     "output_type": "stream",
     "text": [
      "INFO:tensorflow:Assets written to: /tf/tensorflow-tutorials/Modelo_1/Modelo_detecta_caminhada_6_movimentos_v2/assets\n"
     ]
    }
   ],
   "source": [
    "model.save(\"/tf/tensorflow-tutorials/Modelo_1/Modelo_detecta_caminhada_6_movimentos_v2\", save_format='tf')#(\"/tf/tensorflow-tutorials/Modelo_1/Modelo_detecta_caminhada\", save_format='tf')"
   ]
  },
  {
   "cell_type": "code",
   "execution_count": 70,
   "metadata": {},
   "outputs": [
    {
     "name": "stdout",
     "output_type": "stream",
     "text": [
      "WARNING:tensorflow:From /usr/local/lib/python3.6/dist-packages/tensorflow/python/ops/init_ops.py:97: calling GlorotUniform.__init__ (from tensorflow.python.ops.init_ops) with dtype is deprecated and will be removed in a future version.\n",
      "Instructions for updating:\n",
      "Call initializer instance with the dtype argument instead of passing it to the constructor\n",
      "WARNING:tensorflow:From /usr/local/lib/python3.6/dist-packages/tensorflow/python/ops/init_ops.py:97: calling Zeros.__init__ (from tensorflow.python.ops.init_ops) with dtype is deprecated and will be removed in a future version.\n",
      "Instructions for updating:\n",
      "Call initializer instance with the dtype argument instead of passing it to the constructor\n"
     ]
    }
   ],
   "source": [
    "load_model = tf.keras.models.load_model(\"/tf/tensorflow-tutorials/Modelo_1/Modelo_detecta_caminhada_6_movimentos_v2\") #('/tf/tensorflow-tutorials/Wyctor/Modelo_detecta_caminhada')\n"
   ]
  },
  {
   "cell_type": "code",
   "execution_count": 71,
   "metadata": {
    "scrolled": true
   },
   "outputs": [],
   "source": [
    "import matplotlib.pyplot as plt\n",
    "from sklearn.model_selection import cross_val_predict,StratifiedKFold\n",
    "#from yellowbrick.classifier import ConfusionMatrix\n",
    "import numpy as np\n",
    "\n",
    "y_pred = load_model.predict(X_test)  #cross_val_predict(model, X_train, Y_train, cv = cv)\n",
    "#print(y_pred)\n",
    "y_pred=(np.around(y_pred))\n",
    "#print(y_pred)\n",
    "\n",
    "y_Pred=[]\n",
    "for i in range(0,len(y_pred)):\n",
    "    #print(np.argmax(y_pred[i]))\n",
    "    y_Pred.append(np.argmax(y_pred[i]))\n",
    "#print(y_Pred)"
   ]
  },
  {
   "cell_type": "code",
   "execution_count": 72,
   "metadata": {},
   "outputs": [
    {
     "data": {
      "text/plain": [
       "array([[862,   1,   4,  21,   0,  11],\n",
       "       [ 67, 829,   0,   1,   0,   3],\n",
       "       [189,   2, 663,  45,   0,   0],\n",
       "       [155,   7,  25, 705,   7,   0],\n",
       "       [149,   4,   3,  47, 651,  45],\n",
       "       [ 43,  49,   2,  26,   0, 779]])"
      ]
     },
     "execution_count": 72,
     "metadata": {},
     "output_type": "execute_result"
    }
   ],
   "source": [
    "from sklearn.metrics import confusion_matrix\n",
    "\n",
    "confusion_matrix(Y_test,y_Pred)\n"
   ]
  },
  {
   "cell_type": "code",
   "execution_count": 73,
   "metadata": {
    "scrolled": true
   },
   "outputs": [],
   "source": [
    "import itertools\n",
    "import numpy as np\n",
    "import matplotlib.pyplot as plt\n",
    "\n",
    "from sklearn.metrics import confusion_matrix\n",
    "\n",
    "CATEGORIAS=[\"Time Up and Go\",\"Em circulos\", \"Marcha em linha reta\", \"Elevação excessiva do calcanhar\",\" Assimetria de passo\", \"Circundação do pé\"]\n",
    "\n",
    "def plot_confusion_matrix(cm, classes,\n",
    "                          normalize=False,\n",
    "                          title='Confusion matrix',\n",
    "                          cmap=plt.cm.Blues, figsize=(24,24)):\n",
    "    \"\"\"\n",
    "    This function prints and plots the confusion matrix.\n",
    "    Normalization can be applied by setting `normalize=True`.\n",
    "    \"\"\"\n",
    "    if normalize:\n",
    "        cm = cm.astype('float') / cm.sum(axis=1)[:, np.newaxis]\n",
    "        print(\"Normalized confusion matrix\")\n",
    "    else:\n",
    "        print('Confusion matrix, without normalization')\n",
    "\n",
    "    #print(cm)\n",
    "\n",
    "    plt.imshow(cm, interpolation='nearest', cmap=cmap)\n",
    "    plt.title(title)\n",
    "    plt.colorbar()\n",
    "    tick_marks = np.arange(len(classes))\n",
    "    plt.xticks(tick_marks, classes, rotation=45)\n",
    "    plt.yticks(tick_marks, classes)\n",
    "\n",
    "    fmt = '.2f' if normalize else 'd'\n",
    "    thresh = cm.max() /2.\n",
    "    for i, j in itertools.product(range(cm.shape[0]), range(cm.shape[1])):\n",
    "        plt.text(j, i, format(cm[i, j], fmt),\n",
    "                 horizontalalignment=\"center\",\n",
    "                 color=\"white\" if cm[i, j] > thresh else \"black\")\n",
    "\n",
    "    plt.ylabel('True label')\n",
    "    plt.xlabel('Predicted label')\n",
    "    plt.tight_layout()\n",
    "\n",
    "\n",
    "# Compute confusion matrix\n",
    "cnf_matrix = confusion_matrix(Y_test, y_Pred)\n",
    "np.set_printoptions(precision=2)"
   ]
  },
  {
   "cell_type": "code",
   "execution_count": 74,
   "metadata": {},
   "outputs": [
    {
     "name": "stdout",
     "output_type": "stream",
     "text": [
      "Normalized confusion matrix\n"
     ]
    },
    {
     "data": {
      "image/png": "[encoded data removed]",
      "text/plain": [
       "<Figure size 432x288 with 2 Axes>"
      ]
     },
     "metadata": {
      "needs_background": "light"
     },
     "output_type": "display_data"
    }
   ],
   "source": [
    "# Plot normalized confusion matrix\n",
    "plt.figure()\n",
    "plot_confusion_matrix(cnf_matrix, classes=CATEGORIAS, normalize=True,\n",
    "                      title='Normalized confusion matrix')\n",
    "plt.savefig(\"Matrix Confusao Normalizada.png\")\n",
    "plt.show()"
   ]
  },
  {
   "cell_type": "code",
   "execution_count": 75,
   "metadata": {
    "scrolled": false
   },
   "outputs": [
    {
     "name": "stdout",
     "output_type": "stream",
     "text": [
      "Confusion matrix, without normalization\n"
     ]
    },
    {
     "data": {
      "image/png": "[encoded data removed]",
      "text/plain": [
       "<Figure size 432x288 with 2 Axes>"
      ]
     },
     "metadata": {
      "needs_background": "light"
     },
     "output_type": "display_data"
    }
   ],
   "source": [
    "# Plot non-normalized confusion matrix\n",
    "plt.figure()\n",
    "plt.savefig(\"Matrix Confusao.png\")\n",
    "plot_confusion_matrix(cnf_matrix, classes=CATEGORIAS,title='Confusion matrix, without normalization',normalize=False)\n",
    "plt.show()"
   ]
  },
  {
   "cell_type": "code",
   "execution_count": 76,
   "metadata": {},
   "outputs": [],
   "source": [
    "from sklearn.metrics import classification_report"
   ]
  },
  {
   "cell_type": "code",
   "execution_count": 77,
   "metadata": {
    "scrolled": false
   },
   "outputs": [
    {
     "name": "stdout",
     "output_type": "stream",
     "text": [
      "                                 precision    recall  f1-score   support\n",
      "\n",
      "                 Time Up and Go    0.58840   0.95884   0.72927       899\n",
      "                    Em circulos    0.92937   0.92111   0.92522       900\n",
      "           Marcha em linha reta    0.95122   0.73749   0.83083       899\n",
      "Elevação excessiva do calcanhar    0.83432   0.78420   0.80849       899\n",
      "            Assimetria de passo    0.98936   0.72414   0.83622       899\n",
      "              Circundação do pé    0.92959   0.86652   0.89695       899\n",
      "\n",
      "                       accuracy                        0.83207      5395\n",
      "                      macro avg    0.87038   0.83205   0.83783      5395\n",
      "                   weighted avg    0.87039   0.83207   0.83785      5395\n",
      "\n"
     ]
    }
   ],
   "source": [
    "\n",
    "print(classification_report(Y_test,y_Pred,digits=5, target_names=CATEGORIAS))\n"
   ]
  },
  {
   "cell_type": "code",
   "execution_count": 78,
   "metadata": {},
   "outputs": [],
   "source": [
    "from sklearn.preprocessing import label_binarize\n",
    "from sklearn.metrics import roc_curve, auc\n",
    "from scipy import interp\n",
    "from itertools import cycle\n",
    "\n",
    "def ROC_E_AUC(y_Pred,Y_val):\n",
    "    lw=2\n",
    "    n_classes=6\n",
    "    # Binarize the output\n",
    "    Y_val= label_binarize(Y_val, classes=[0, 1, 2,3,4,5])\n",
    "    n_classes = Y_val.shape[1]\n",
    "\n",
    "    y_Pred= label_binarize(y_Pred, classes=[0, 1, 2,3,4,5])\n",
    "\n",
    "    # Compute ROC curve and ROC area for each class\n",
    "    fpr = dict()\n",
    "    tpr = dict()\n",
    "    roc_auc = dict()\n",
    "    for i in range(n_classes):\n",
    "        fpr[i], tpr[i], _ = roc_curve(Y_val[:, i], y_Pred[:, i])\n",
    "        roc_auc[i] = auc(fpr[i], tpr[i])\n",
    "\n",
    "    # Compute micro-average ROC curve and ROC area\n",
    "    fpr[\"micro\"], tpr[\"micro\"], _ = roc_curve(Y_val.ravel(), y_Pred.ravel())\n",
    "    roc_auc[\"micro\"] = auc(fpr[\"micro\"], tpr[\"micro\"])\n",
    "    # First aggregate all false positive rates\n",
    "    all_fpr = np.unique(np.concatenate([fpr[i] for i in range(n_classes)]))\n",
    "\n",
    "    # Then interpolate all ROC curves at this points\n",
    "    mean_tpr = np.zeros_like(all_fpr)\n",
    "    for i in range(n_classes):\n",
    "        mean_tpr += interp(all_fpr, fpr[i], tpr[i])\n",
    "\n",
    "    # Finally average it and compute AUC\n",
    "    mean_tpr /= n_classes\n",
    "\n",
    "    fpr[\"macro\"] = all_fpr\n",
    "    tpr[\"macro\"] = mean_tpr\n",
    "    roc_auc[\"macro\"] = auc(fpr[\"macro\"], tpr[\"macro\"])\n",
    "\n",
    "    # Plot all ROC curves\n",
    "    plt.figure()\n",
    "    plt.plot(fpr[\"micro\"], tpr[\"micro\"],\n",
    "             label='micro-average ROC curve (area = {0:0.2f})'\n",
    "                   ''.format(roc_auc[\"micro\"]),\n",
    "             color='deeppink', linestyle=':', linewidth=4)\n",
    "\n",
    "    plt.plot(fpr[\"macro\"], tpr[\"macro\"],\n",
    "             label='macro-average ROC curve (area = {0:0.2f})'\n",
    "                   ''.format(roc_auc[\"macro\"]),\n",
    "             color='navy', linestyle=':', linewidth=4)\n",
    "\n",
    "    colors = cycle(['aqua', 'darkorange', 'cornflowerblue'])\n",
    "    for i, color in zip(range(n_classes), colors):\n",
    "        plt.plot(fpr[i], tpr[i], color=color, lw=lw,\n",
    "                 label='ROC curve of class {0} (area = {1:0.2f})'\n",
    "                 ''.format(i, roc_auc[i]))\n",
    "\n",
    "    plt.plot([0, 1], [0, 1], 'k--', lw=lw)\n",
    "    plt.xlim([0.0, 1.0])\n",
    "    plt.ylim([0.0, 1.05])\n",
    "    plt.xlabel('False Positive Rate')\n",
    "    plt.ylabel('True Positive Rate')\n",
    "    plt.title('Some extension of Receiver operating characteristic to multi-class')\n",
    "    plt.legend(loc=\"lower right\")\n",
    "    #plt.savefig(\"Curva_ROC_6_movimentos_RGB_8/4_CICLOS.png\")\n",
    "    plt.show()\n",
    "    print(roc_auc)"
   ]
  },
  {
   "cell_type": "code",
   "execution_count": 79,
   "metadata": {},
   "outputs": [
    {
     "name": "stderr",
     "output_type": "stream",
     "text": [
      "/usr/local/lib/python3.6/dist-packages/ipykernel_launcher.py:32: DeprecationWarning: scipy.interp is deprecated and will be removed in SciPy 2.0.0, use numpy.interp instead\n"
     ]
    },
    {
     "data": {
      "image/png": "[encoded data removed]",
      "text/plain": [
       "<Figure size 432x288 with 1 Axes>"
      ]
     },
     "metadata": {
      "needs_background": "light"
     },
     "output_type": "display_data"
    },
    {
     "name": "stdout",
     "output_type": "stream",
     "text": [
      "{0: 0.912361970991889, 1: 0.9535477691261897, 2: 0.8649619090408877, 3: 0.8765329409110163, 4: 0.8612904957663516, 5: 0.9266977889628254, 'micro': 0.8992400370713624, 'macro': 0.89923214579986}\n"
     ]
    }
   ],
   "source": [
    "ROC_E_AUC(y_Pred,Y_test)"
   ]
  },
  {
   "cell_type": "code",
   "execution_count": 80,
   "metadata": {},
   "outputs": [],
   "source": [
    "from sklearn.metrics import precision_recall_curve, roc_curve\n",
    "from sklearn.preprocessing import label_binarize\n",
    "\n",
    "def Average_Precision_Recall(Y_val,y_Pred):\n",
    "    Y_val= label_binarize(Y_val, classes=[0, 1, 2,3,4,5])\n",
    "    y_Pred= label_binarize(y_Pred, classes=[0, 1, 2,3,4,5])\n",
    "\n",
    "    # precision recall curve\n",
    "    precision = dict()\n",
    "    recall = dict()\n",
    "    average_precision = dict()\n",
    "    average_precision_score=[]\n",
    "    for i in range(0,6):\n",
    "        precision[i], recall[i], _ = precision_recall_curve(Y_val[:, i],\n",
    "                                                            y_Pred[:, i])\n",
    "        #average_precision[i] = average_precision_score(Y_val[:, i], y_Pred[:, i])\n",
    "\n",
    "        plt.plot(recall[i], precision[i], lw=2, label='class {}'.format(i))\n",
    "    # A \"micro-average\": quantifying score on all classes jointly\n",
    "    precision[\"micro\"], recall[\"micro\"], _ = precision_recall_curve(Y_val.ravel(),\n",
    "            y_Pred.ravel())\n",
    "    #average_precision[\"micro\"] = average_precision_score(Y_val, y_Pred,\n",
    "    #                                                         average=\"micro\")\n",
    "    #print('Average precision score, micro-averaged over all classes: {0:0.2f}'\n",
    "    #          .format(average_precision[\"micro\"]))\n",
    "    #plt.suptitle(\n",
    "    #    'Average precision score, micro-averaged over all classes: AP={0:0.2f}'\n",
    "    #    .format(average_precision[\"micro\"]))\n",
    "    plt.xlabel(\"recall\")\n",
    "    plt.ylabel(\"precision\")\n",
    "    plt.legend(loc=\"best\")\n",
    "    plt.title(\"precision vs. recall curve\")\n",
    "    #plt.savefig(\"Curva_precision vs. recall_movimentos_FOLD_5_RGB_1_CICLO -70_30.png\")\n",
    "    plt.show()"
   ]
  },
  {
   "cell_type": "code",
   "execution_count": 81,
   "metadata": {
    "scrolled": true
   },
   "outputs": [
    {
     "data": {
      "image/png": "[encoded data removed]",
      "text/plain": [
       "<Figure size 432x288 with 1 Axes>"
      ]
     },
     "metadata": {
      "needs_background": "light"
     },
     "output_type": "display_data"
    }
   ],
   "source": [
    "Average_Precision_Recall(Y_test,y_Pred)"
   ]
  },
  {
   "cell_type": "code",
   "execution_count": 82,
   "metadata": {},
   "outputs": [],
   "source": [
    "##USANDO CROSS VALIDATION##"
   ]
  },
  {
   "cell_type": "code",
   "execution_count": 83,
   "metadata": {},
   "outputs": [],
   "source": [
    "# Define per-fold score containers\n",
    "acc_per_fold = []\n",
    "loss_per_fold = []\n",
    "\n",
    "# Merge inputs and targets\n",
    "inputs = np.concatenate((X_train, X_val), axis=0)\n",
    "targets = np.concatenate((Y_train, Y_val), axis=0)"
   ]
  },
  {
   "cell_type": "code",
   "execution_count": null,
   "metadata": {
    "scrolled": true
   },
   "outputs": [
    {
     "name": "stdout",
     "output_type": "stream",
     "text": [
      "Train on 10069 samples, validate on 2518 samples\n",
      "Epoch 1/100\n",
      "10069/10069 [==============================] - 14s 1ms/sample - loss: 1.1660 - mean_absolute_error: 2.3965 - acc: 0.6378 - val_loss: 0.8002 - val_mean_absolute_error: 2.3663 - val_acc: 0.7661\n",
      "Epoch 2/100\n",
      "10069/10069 [==============================] - 14s 1ms/sample - loss: 0.8404 - mean_absolute_error: 2.3965 - acc: 0.7406 - val_loss: 0.7018 - val_mean_absolute_error: 2.3663 - val_acc: 0.7967\n",
      "Epoch 3/100\n",
      "10069/10069 [==============================] - 14s 1ms/sample - loss: 0.7583 - mean_absolute_error: 2.3965 - acc: 0.7732 - val_loss: 0.6941 - val_mean_absolute_error: 2.3663 - val_acc: 0.8078\n",
      "Epoch 4/100\n",
      "10069/10069 [==============================] - 14s 1ms/sample - loss: 0.6959 - mean_absolute_error: 2.3965 - acc: 0.7980 - val_loss: 0.6032 - val_mean_absolute_error: 2.3663 - val_acc: 0.8328\n",
      "Epoch 5/100\n",
      "10069/10069 [==============================] - 14s 1ms/sample - loss: 0.6829 - mean_absolute_error: 2.3965 - acc: 0.8045 - val_loss: 0.6098 - val_mean_absolute_error: 2.3663 - val_acc: 0.8264\n",
      "Epoch 6/100\n",
      "10069/10069 [==============================] - 14s 1ms/sample - loss: 0.6536 - mean_absolute_error: 2.3965 - acc: 0.8150 - val_loss: 0.5548 - val_mean_absolute_error: 2.3663 - val_acc: 0.8511\n",
      "Epoch 7/100\n",
      "10069/10069 [==============================] - 14s 1ms/sample - loss: 0.6312 - mean_absolute_error: 2.3965 - acc: 0.8290 - val_loss: 0.5225 - val_mean_absolute_error: 2.3663 - val_acc: 0.8574\n",
      "Epoch 8/100\n",
      "10069/10069 [==============================] - 14s 1ms/sample - loss: 0.6018 - mean_absolute_error: 2.3965 - acc: 0.8302 - val_loss: 0.5467 - val_mean_absolute_error: 2.3663 - val_acc: 0.8511\n",
      "Epoch 9/100\n",
      "10069/10069 [==============================] - 14s 1ms/sample - loss: 0.6024 - mean_absolute_error: 2.3965 - acc: 0.8332 - val_loss: 0.4989 - val_mean_absolute_error: 2.3663 - val_acc: 0.8646\n",
      "Epoch 10/100\n",
      "10069/10069 [==============================] - 14s 1ms/sample - loss: 0.5788 - mean_absolute_error: 2.3965 - acc: 0.8402 - val_loss: 0.5005 - val_mean_absolute_error: 2.3663 - val_acc: 0.8697\n",
      "Epoch 11/100\n",
      "10069/10069 [==============================] - 14s 1ms/sample - loss: 0.5752 - mean_absolute_error: 2.3965 - acc: 0.8463 - val_loss: 0.6045 - val_mean_absolute_error: 2.3663 - val_acc: 0.8384\n",
      "Epoch 12/100\n",
      "10069/10069 [==============================] - 14s 1ms/sample - loss: 0.5725 - mean_absolute_error: 2.3965 - acc: 0.8451 - val_loss: 0.4956 - val_mean_absolute_error: 2.3663 - val_acc: 0.8721\n",
      "Epoch 13/100\n",
      "10069/10069 [==============================] - 14s 1ms/sample - loss: 0.5463 - mean_absolute_error: 2.3965 - acc: 0.8497 - val_loss: 0.5051 - val_mean_absolute_error: 2.3663 - val_acc: 0.8642\n",
      "Epoch 14/100\n",
      "10069/10069 [==============================] - 14s 1ms/sample - loss: 0.5423 - mean_absolute_error: 2.3965 - acc: 0.8537 - val_loss: 0.5135 - val_mean_absolute_error: 2.3663 - val_acc: 0.8666\n",
      "Epoch 15/100\n",
      "10069/10069 [==============================] - 14s 1ms/sample - loss: 0.5301 - mean_absolute_error: 2.3965 - acc: 0.8563 - val_loss: 0.4553 - val_mean_absolute_error: 2.3663 - val_acc: 0.8817\n",
      "Epoch 16/100\n",
      "10069/10069 [==============================] - 14s 1ms/sample - loss: 0.5364 - mean_absolute_error: 2.3965 - acc: 0.8509 - val_loss: 0.4585 - val_mean_absolute_error: 2.3663 - val_acc: 0.8789\n",
      "Epoch 17/100\n",
      "10069/10069 [==============================] - 14s 1ms/sample - loss: 0.5259 - mean_absolute_error: 2.3965 - acc: 0.8582 - val_loss: 0.4504 - val_mean_absolute_error: 2.3663 - val_acc: 0.8741\n",
      "Epoch 18/100\n",
      "10069/10069 [==============================] - 14s 1ms/sample - loss: 0.5129 - mean_absolute_error: 2.3965 - acc: 0.8626 - val_loss: 0.4334 - val_mean_absolute_error: 2.3663 - val_acc: 0.8813\n",
      "Epoch 19/100\n",
      "10069/10069 [==============================] - 14s 1ms/sample - loss: 0.5117 - mean_absolute_error: 2.3965 - acc: 0.8644 - val_loss: 0.4638 - val_mean_absolute_error: 2.3663 - val_acc: 0.8769\n",
      "Epoch 20/100\n",
      "10069/10069 [==============================] - 14s 1ms/sample - loss: 0.5022 - mean_absolute_error: 2.3965 - acc: 0.8635 - val_loss: 0.4538 - val_mean_absolute_error: 2.3663 - val_acc: 0.8805\n",
      "Epoch 21/100\n",
      "10069/10069 [==============================] - 14s 1ms/sample - loss: 0.5102 - mean_absolute_error: 2.3965 - acc: 0.8618 - val_loss: 0.4292 - val_mean_absolute_error: 2.3663 - val_acc: 0.8872\n",
      "Epoch 22/100\n",
      "10069/10069 [==============================] - 14s 1ms/sample - loss: 0.4843 - mean_absolute_error: 2.3965 - acc: 0.8723 - val_loss: 0.4133 - val_mean_absolute_error: 2.3663 - val_acc: 0.8940\n",
      "Epoch 23/100\n",
      "10069/10069 [==============================] - 14s 1ms/sample - loss: 0.4889 - mean_absolute_error: 2.3965 - acc: 0.8693 - val_loss: 0.4216 - val_mean_absolute_error: 2.3663 - val_acc: 0.8880\n",
      "Epoch 24/100\n",
      "10069/10069 [==============================] - 14s 1ms/sample - loss: 0.4844 - mean_absolute_error: 2.3965 - acc: 0.8694 - val_loss: 0.4362 - val_mean_absolute_error: 2.3663 - val_acc: 0.8785\n",
      "Epoch 25/100\n",
      "10069/10069 [==============================] - 14s 1ms/sample - loss: 0.4819 - mean_absolute_error: 2.3965 - acc: 0.8686 - val_loss: 0.3929 - val_mean_absolute_error: 2.3663 - val_acc: 0.8963\n",
      "Epoch 26/100\n",
      "10069/10069 [==============================] - 14s 1ms/sample - loss: 0.4709 - mean_absolute_error: 2.3965 - acc: 0.8770 - val_loss: 0.4085 - val_mean_absolute_error: 2.3663 - val_acc: 0.8884\n",
      "Epoch 27/100\n",
      "10069/10069 [==============================] - 14s 1ms/sample - loss: 0.4741 - mean_absolute_error: 2.3965 - acc: 0.8728 - val_loss: 0.4028 - val_mean_absolute_error: 2.3663 - val_acc: 0.8963\n",
      "Epoch 28/100\n",
      "10069/10069 [==============================] - 14s 1ms/sample - loss: 0.4729 - mean_absolute_error: 2.3965 - acc: 0.8768 - val_loss: 0.3932 - val_mean_absolute_error: 2.3663 - val_acc: 0.9055\n",
      "Epoch 29/100\n",
      "10069/10069 [==============================] - 14s 1ms/sample - loss: 0.4630 - mean_absolute_error: 2.3965 - acc: 0.8772 - val_loss: 0.3935 - val_mean_absolute_error: 2.3663 - val_acc: 0.8991\n",
      "Epoch 30/100\n",
      "10069/10069 [==============================] - 14s 1ms/sample - loss: 0.4556 - mean_absolute_error: 2.3965 - acc: 0.8766 - val_loss: 0.3995 - val_mean_absolute_error: 2.3663 - val_acc: 0.8912\n",
      "Epoch 31/100\n",
      "10069/10069 [==============================] - 14s 1ms/sample - loss: 0.4589 - mean_absolute_error: 2.3965 - acc: 0.8795 - val_loss: 0.4211 - val_mean_absolute_error: 2.3663 - val_acc: 0.8916\n",
      "Epoch 32/100\n",
      "10069/10069 [==============================] - 14s 1ms/sample - loss: 0.4582 - mean_absolute_error: 2.3965 - acc: 0.8762 - val_loss: 0.3732 - val_mean_absolute_error: 2.3663 - val_acc: 0.9059\n",
      "Epoch 33/100\n",
      "10069/10069 [==============================] - 14s 1ms/sample - loss: 0.4618 - mean_absolute_error: 2.3965 - acc: 0.8762 - val_loss: 0.3850 - val_mean_absolute_error: 2.3663 - val_acc: 0.9031\n",
      "Epoch 34/100\n",
      "10069/10069 [==============================] - 14s 1ms/sample - loss: 0.4579 - mean_absolute_error: 2.3965 - acc: 0.8757 - val_loss: 0.3911 - val_mean_absolute_error: 2.3663 - val_acc: 0.8979\n",
      "Epoch 35/100\n",
      "10069/10069 [==============================] - 14s 1ms/sample - loss: 0.4565 - mean_absolute_error: 2.3965 - acc: 0.8772 - val_loss: 0.3656 - val_mean_absolute_error: 2.3663 - val_acc: 0.9146\n",
      "Epoch 36/100\n",
      "10069/10069 [==============================] - 14s 1ms/sample - loss: 0.4463 - mean_absolute_error: 2.3965 - acc: 0.8788 - val_loss: 0.3836 - val_mean_absolute_error: 2.3663 - val_acc: 0.9023\n",
      "Epoch 37/100\n",
      "10069/10069 [==============================] - 14s 1ms/sample - loss: 0.4442 - mean_absolute_error: 2.3965 - acc: 0.8790 - val_loss: 0.3852 - val_mean_absolute_error: 2.3663 - val_acc: 0.9019\n",
      "Epoch 38/100\n",
      "10069/10069 [==============================] - 14s 1ms/sample - loss: 0.4411 - mean_absolute_error: 2.3965 - acc: 0.8791 - val_loss: 0.3672 - val_mean_absolute_error: 2.3663 - val_acc: 0.9098\n",
      "Epoch 39/100\n",
      "10069/10069 [==============================] - 14s 1ms/sample - loss: 0.4492 - mean_absolute_error: 2.3965 - acc: 0.8799 - val_loss: 0.3746 - val_mean_absolute_error: 2.3663 - val_acc: 0.8975\n",
      "Epoch 40/100\n",
      "10069/10069 [==============================] - 14s 1ms/sample - loss: 0.4350 - mean_absolute_error: 2.3965 - acc: 0.8874 - val_loss: 0.3744 - val_mean_absolute_error: 2.3663 - val_acc: 0.9019\n"
     ]
    },
    {
     "name": "stdout",
     "output_type": "stream",
     "text": [
      "Epoch 41/100\n",
      "10069/10069 [==============================] - 14s 1ms/sample - loss: 0.4505 - mean_absolute_error: 2.3965 - acc: 0.8812 - val_loss: 0.3642 - val_mean_absolute_error: 2.3663 - val_acc: 0.9134\n",
      "Epoch 42/100\n",
      "10069/10069 [==============================] - 14s 1ms/sample - loss: 0.4395 - mean_absolute_error: 2.3965 - acc: 0.8839 - val_loss: 0.3677 - val_mean_absolute_error: 2.3663 - val_acc: 0.9071\n",
      "Epoch 43/100\n",
      "10069/10069 [==============================] - 14s 1ms/sample - loss: 0.4401 - mean_absolute_error: 2.3965 - acc: 0.8811 - val_loss: 0.3616 - val_mean_absolute_error: 2.3663 - val_acc: 0.9098\n",
      "Epoch 44/100\n",
      "10069/10069 [==============================] - 14s 1ms/sample - loss: 0.4335 - mean_absolute_error: 2.3965 - acc: 0.8860 - val_loss: 0.3638 - val_mean_absolute_error: 2.3663 - val_acc: 0.9079\n",
      "Epoch 45/100\n",
      "10069/10069 [==============================] - 14s 1ms/sample - loss: 0.4367 - mean_absolute_error: 2.3965 - acc: 0.8827 - val_loss: 0.3574 - val_mean_absolute_error: 2.3663 - val_acc: 0.9091\n",
      "Epoch 00045: early stopping\n",
      "Score for fold 1: loss of 0.3906349217351985; acc of 90.70690870285034%\n",
      "INFO:tensorflow:Assets written to: /tf/tensorflow-tutorials/Modelo_1/Modelo_detecta_caminhada_6_movimentos_v2/assets\n",
      "              precision    recall  f1-score   support\n",
      "\n",
      "         0.0    0.71358   0.95884   0.81822       899\n",
      "         1.0    0.94383   0.95222   0.94801       900\n",
      "         2.0    0.91902   0.83315   0.87398       899\n",
      "         3.0    0.94373   0.82091   0.87805       899\n",
      "         4.0    0.97226   0.85762   0.91135       899\n",
      "         5.0    0.95838   0.94772   0.95302       899\n",
      "\n",
      "    accuracy                        0.89509      5395\n",
      "   macro avg    0.90847   0.89508   0.89710      5395\n",
      "weighted avg    0.90847   0.89509   0.89711      5395\n",
      "\n"
     ]
    },
    {
     "name": "stderr",
     "output_type": "stream",
     "text": [
      "/usr/local/lib/python3.6/dist-packages/ipykernel_launcher.py:32: DeprecationWarning: scipy.interp is deprecated and will be removed in SciPy 2.0.0, use numpy.interp instead\n"
     ]
    },
    {
     "data": {
      "image/png": "[encoded data removed]",
      "text/plain": [
       "<Figure size 432x288 with 1 Axes>"
      ]
     },
     "metadata": {
      "needs_background": "light"
     },
     "output_type": "display_data"
    },
    {
     "name": "stdout",
     "output_type": "stream",
     "text": [
      "{0: 0.9409429318459815, 1: 0.9704381411444816, 2: 0.9092341134277311, 3: 0.9055628238572712, 4: 0.9263631694369783, 5: 0.9697450755881386, 'micro': 0.9370528266913809, 'macro': 0.9370477092167638}\n",
      "Train on 10069 samples, validate on 2518 samples\n",
      "Epoch 1/100\n",
      "10069/10069 [==============================] - 14s 1ms/sample - loss: 1.1550 - mean_absolute_error: 2.3858 - acc: 0.6355 - val_loss: 0.9060 - val_mean_absolute_error: 2.3663 - val_acc: 0.7085\n",
      "Epoch 2/100\n",
      "10069/10069 [==============================] - 14s 1ms/sample - loss: 0.8438 - mean_absolute_error: 2.3858 - acc: 0.7449 - val_loss: 0.7027 - val_mean_absolute_error: 2.3663 - val_acc: 0.7748\n",
      "Epoch 3/100\n",
      "10069/10069 [==============================] - 14s 1ms/sample - loss: 0.7600 - mean_absolute_error: 2.3858 - acc: 0.7744 - val_loss: 0.6649 - val_mean_absolute_error: 2.3663 - val_acc: 0.8225\n",
      "Epoch 4/100\n",
      "10069/10069 [==============================] - 14s 1ms/sample - loss: 0.7187 - mean_absolute_error: 2.3858 - acc: 0.7914 - val_loss: 0.6198 - val_mean_absolute_error: 2.3663 - val_acc: 0.8257\n",
      "Epoch 5/100\n",
      "10069/10069 [==============================] - 14s 1ms/sample - loss: 0.6826 - mean_absolute_error: 2.3858 - acc: 0.8030 - val_loss: 0.6954 - val_mean_absolute_error: 2.3663 - val_acc: 0.8070\n",
      "Epoch 6/100\n",
      "10069/10069 [==============================] - 14s 1ms/sample - loss: 0.6502 - mean_absolute_error: 2.3858 - acc: 0.8163 - val_loss: 0.5665 - val_mean_absolute_error: 2.3663 - val_acc: 0.8407\n",
      "Epoch 7/100\n",
      "10069/10069 [==============================] - 14s 1ms/sample - loss: 0.6324 - mean_absolute_error: 2.3858 - acc: 0.8223 - val_loss: 0.5280 - val_mean_absolute_error: 2.3663 - val_acc: 0.8681\n",
      "Epoch 8/100\n",
      "10069/10069 [==============================] - 14s 1ms/sample - loss: 0.6107 - mean_absolute_error: 2.3858 - acc: 0.8269 - val_loss: 0.5162 - val_mean_absolute_error: 2.3663 - val_acc: 0.8598\n",
      "Epoch 9/100\n",
      "10069/10069 [==============================] - 14s 1ms/sample - loss: 0.5996 - mean_absolute_error: 2.3858 - acc: 0.8384 - val_loss: 0.5209 - val_mean_absolute_error: 2.3663 - val_acc: 0.8582\n",
      "Epoch 10/100\n",
      "10069/10069 [==============================] - 14s 1ms/sample - loss: 0.5864 - mean_absolute_error: 2.3858 - acc: 0.8432 - val_loss: 0.4864 - val_mean_absolute_error: 2.3663 - val_acc: 0.8753\n",
      "Epoch 11/100\n",
      "10069/10069 [==============================] - 14s 1ms/sample - loss: 0.5703 - mean_absolute_error: 2.3858 - acc: 0.8447 - val_loss: 0.5054 - val_mean_absolute_error: 2.3663 - val_acc: 0.8590\n",
      "Epoch 12/100\n",
      "10069/10069 [==============================] - 14s 1ms/sample - loss: 0.5586 - mean_absolute_error: 2.3858 - acc: 0.8496 - val_loss: 0.4581 - val_mean_absolute_error: 2.3663 - val_acc: 0.8824\n",
      "Epoch 13/100\n",
      "10069/10069 [==============================] - 14s 1ms/sample - loss: 0.5488 - mean_absolute_error: 2.3858 - acc: 0.8519 - val_loss: 0.4794 - val_mean_absolute_error: 2.3663 - val_acc: 0.8658\n",
      "Epoch 14/100\n",
      "10069/10069 [==============================] - 14s 1ms/sample - loss: 0.5420 - mean_absolute_error: 2.3858 - acc: 0.8510 - val_loss: 0.4643 - val_mean_absolute_error: 2.3663 - val_acc: 0.8733\n",
      "Epoch 15/100\n",
      "10069/10069 [==============================] - 14s 1ms/sample - loss: 0.5401 - mean_absolute_error: 2.3858 - acc: 0.8563 - val_loss: 0.4467 - val_mean_absolute_error: 2.3663 - val_acc: 0.8817\n",
      "Epoch 16/100\n",
      "10069/10069 [==============================] - 14s 1ms/sample - loss: 0.5346 - mean_absolute_error: 2.3858 - acc: 0.8578 - val_loss: 0.4280 - val_mean_absolute_error: 2.3663 - val_acc: 0.8884\n",
      "Epoch 17/100\n",
      "10069/10069 [==============================] - 14s 1ms/sample - loss: 0.5267 - mean_absolute_error: 2.3858 - acc: 0.8518 - val_loss: 0.4455 - val_mean_absolute_error: 2.3663 - val_acc: 0.8761\n",
      "Epoch 18/100\n",
      "10069/10069 [==============================] - 14s 1ms/sample - loss: 0.5203 - mean_absolute_error: 2.3858 - acc: 0.8576 - val_loss: 0.4282 - val_mean_absolute_error: 2.3663 - val_acc: 0.8912\n",
      "Epoch 19/100\n",
      "10069/10069 [==============================] - 14s 1ms/sample - loss: 0.5159 - mean_absolute_error: 2.3858 - acc: 0.8582 - val_loss: 0.4118 - val_mean_absolute_error: 2.3663 - val_acc: 0.8979\n",
      "Epoch 20/100\n",
      "10069/10069 [==============================] - 14s 1ms/sample - loss: 0.5017 - mean_absolute_error: 2.3858 - acc: 0.8650 - val_loss: 0.4054 - val_mean_absolute_error: 2.3663 - val_acc: 0.8967\n",
      "Epoch 21/100\n",
      "10069/10069 [==============================] - 14s 1ms/sample - loss: 0.5009 - mean_absolute_error: 2.3858 - acc: 0.8635 - val_loss: 0.4128 - val_mean_absolute_error: 2.3663 - val_acc: 0.8936\n",
      "Epoch 22/100\n",
      "10069/10069 [==============================] - 14s 1ms/sample - loss: 0.4902 - mean_absolute_error: 2.3858 - acc: 0.8679 - val_loss: 0.4254 - val_mean_absolute_error: 2.3663 - val_acc: 0.8880\n",
      "Epoch 23/100\n",
      "10069/10069 [==============================] - 14s 1ms/sample - loss: 0.4960 - mean_absolute_error: 2.3858 - acc: 0.8660 - val_loss: 0.4020 - val_mean_absolute_error: 2.3663 - val_acc: 0.8912\n",
      "Epoch 24/100\n",
      "10069/10069 [==============================] - 14s 1ms/sample - loss: 0.4834 - mean_absolute_error: 2.3858 - acc: 0.8725 - val_loss: 0.4157 - val_mean_absolute_error: 2.3663 - val_acc: 0.8936\n",
      "Epoch 25/100\n",
      "10069/10069 [==============================] - 14s 1ms/sample - loss: 0.4831 - mean_absolute_error: 2.3858 - acc: 0.8711 - val_loss: 0.4103 - val_mean_absolute_error: 2.3663 - val_acc: 0.8924\n",
      "Epoch 26/100\n",
      "10069/10069 [==============================] - 14s 1ms/sample - loss: 0.4767 - mean_absolute_error: 2.3858 - acc: 0.8711 - val_loss: 0.3982 - val_mean_absolute_error: 2.3663 - val_acc: 0.8932\n",
      "Epoch 27/100\n",
      "10069/10069 [==============================] - 14s 1ms/sample - loss: 0.4731 - mean_absolute_error: 2.3858 - acc: 0.8719 - val_loss: 0.4085 - val_mean_absolute_error: 2.3663 - val_acc: 0.8868\n",
      "Epoch 28/100\n",
      "10069/10069 [==============================] - 14s 1ms/sample - loss: 0.4720 - mean_absolute_error: 2.3858 - acc: 0.8733 - val_loss: 0.3812 - val_mean_absolute_error: 2.3663 - val_acc: 0.8948\n",
      "Epoch 29/100\n",
      "10069/10069 [==============================] - 14s 1ms/sample - loss: 0.4733 - mean_absolute_error: 2.3858 - acc: 0.8748 - val_loss: 0.3854 - val_mean_absolute_error: 2.3663 - val_acc: 0.8912\n",
      "Epoch 00029: early stopping\n",
      "Score for fold 2: loss of 0.38705428414537946; acc of 90.03177285194397%\n",
      "INFO:tensorflow:Assets written to: /tf/tensorflow-tutorials/Modelo_1/Modelo_detecta_caminhada_6_movimentos_v2/assets\n",
      "              precision    recall  f1-score   support\n",
      "\n",
      "         0.0    0.66438   0.96885   0.78824       899\n",
      "         1.0    0.95838   0.94667   0.95249       900\n",
      "         2.0    0.92963   0.83760   0.88122       899\n",
      "         3.0    0.94832   0.75528   0.84087       899\n",
      "         4.0    0.98828   0.84427   0.91062       899\n",
      "         5.0    0.94895   0.95106   0.95000       899\n",
      "\n",
      "    accuracy                        0.88397      5395\n",
      "   macro avg    0.90632   0.88396   0.88724      5395\n",
      "weighted avg    0.90633   0.88397   0.88725      5395\n",
      "\n"
     ]
    },
    {
     "name": "stderr",
     "output_type": "stream",
     "text": [
      "/usr/local/lib/python3.6/dist-packages/ipykernel_launcher.py:32: DeprecationWarning: scipy.interp is deprecated and will be removed in SciPy 2.0.0, use numpy.interp instead\n"
     ]
    },
    {
     "data": {
      "image/png": "[encoded data removed]",
      "text/plain": [
       "<Figure size 432x288 with 1 Axes>"
      ]
     },
     "metadata": {
      "needs_background": "light"
     },
     "output_type": "display_data"
    },
    {
     "name": "stdout",
     "output_type": "stream",
     "text": [
      "{0: 0.9354947569264387, 1: 0.9692176492398962, 2: 0.9124596972120069, 3: 0.8735270555658916, 4: 0.9211348166606629, 5: 0.9704127064868439, 'micro': 0.9303799814643189, 'macro': 0.9303744470152902}\n",
      "Train on 10070 samples, validate on 2518 samples\n",
      "Epoch 1/100\n",
      "10070/10070 [==============================] - 14s 1ms/sample - loss: 1.1553 - mean_absolute_error: 2.3896 - acc: 0.6357 - val_loss: 0.8178 - val_mean_absolute_error: 2.3663 - val_acc: 0.7494\n",
      "Epoch 2/100\n",
      "10070/10070 [==============================] - 14s 1ms/sample - loss: 0.8410 - mean_absolute_error: 2.3896 - acc: 0.7380 - val_loss: 0.7251 - val_mean_absolute_error: 2.3663 - val_acc: 0.7812\n",
      "Epoch 3/100\n",
      "10070/10070 [==============================] - 14s 1ms/sample - loss: 0.7621 - mean_absolute_error: 2.3896 - acc: 0.7735 - val_loss: 0.7302 - val_mean_absolute_error: 2.3663 - val_acc: 0.7768\n",
      "Epoch 4/100\n",
      "10070/10070 [==============================] - 14s 1ms/sample - loss: 0.7124 - mean_absolute_error: 2.3896 - acc: 0.7935 - val_loss: 0.6029 - val_mean_absolute_error: 2.3663 - val_acc: 0.8328\n",
      "Epoch 5/100\n",
      "10070/10070 [==============================] - 14s 1ms/sample - loss: 0.6732 - mean_absolute_error: 2.3896 - acc: 0.8045 - val_loss: 0.5636 - val_mean_absolute_error: 2.3663 - val_acc: 0.8435\n",
      "Epoch 6/100\n",
      "10070/10070 [==============================] - 14s 1ms/sample - loss: 0.6578 - mean_absolute_error: 2.3896 - acc: 0.8152 - val_loss: 0.5476 - val_mean_absolute_error: 2.3663 - val_acc: 0.8582\n",
      "Epoch 7/100\n",
      "10070/10070 [==============================] - 14s 1ms/sample - loss: 0.6302 - mean_absolute_error: 2.3896 - acc: 0.8224 - val_loss: 0.5355 - val_mean_absolute_error: 2.3663 - val_acc: 0.8586\n",
      "Epoch 8/100\n",
      "10070/10070 [==============================] - 14s 1ms/sample - loss: 0.6068 - mean_absolute_error: 2.3896 - acc: 0.8345 - val_loss: 0.5350 - val_mean_absolute_error: 2.3663 - val_acc: 0.8523\n",
      "Epoch 9/100\n",
      "10070/10070 [==============================] - 14s 1ms/sample - loss: 0.6046 - mean_absolute_error: 2.3896 - acc: 0.8337 - val_loss: 0.5061 - val_mean_absolute_error: 2.3663 - val_acc: 0.8618\n",
      "Epoch 10/100\n",
      "10070/10070 [==============================] - 14s 1ms/sample - loss: 0.5945 - mean_absolute_error: 2.3896 - acc: 0.8348 - val_loss: 0.5076 - val_mean_absolute_error: 2.3663 - val_acc: 0.8654\n",
      "Epoch 11/100\n",
      "10070/10070 [==============================] - 14s 1ms/sample - loss: 0.5701 - mean_absolute_error: 2.3896 - acc: 0.8458 - val_loss: 0.5180 - val_mean_absolute_error: 2.3663 - val_acc: 0.8570\n",
      "Epoch 12/100\n",
      "10070/10070 [==============================] - 14s 1ms/sample - loss: 0.5679 - mean_absolute_error: 2.3896 - acc: 0.8465 - val_loss: 0.5029 - val_mean_absolute_error: 2.3663 - val_acc: 0.8689\n",
      "Epoch 13/100\n",
      "10070/10070 [==============================] - 14s 1ms/sample - loss: 0.5477 - mean_absolute_error: 2.3896 - acc: 0.8537 - val_loss: 0.4693 - val_mean_absolute_error: 2.3663 - val_acc: 0.8729\n",
      "Epoch 14/100\n",
      "10070/10070 [==============================] - 14s 1ms/sample - loss: 0.5405 - mean_absolute_error: 2.3896 - acc: 0.8500 - val_loss: 0.4423 - val_mean_absolute_error: 2.3663 - val_acc: 0.8828\n",
      "Epoch 15/100\n",
      "10070/10070 [==============================] - 14s 1ms/sample - loss: 0.5293 - mean_absolute_error: 2.3896 - acc: 0.8563 - val_loss: 0.4526 - val_mean_absolute_error: 2.3663 - val_acc: 0.8749\n",
      "Epoch 16/100\n",
      "10070/10070 [==============================] - 14s 1ms/sample - loss: 0.5242 - mean_absolute_error: 2.3896 - acc: 0.8562 - val_loss: 0.4460 - val_mean_absolute_error: 2.3663 - val_acc: 0.8789\n",
      "Epoch 17/100\n",
      "10070/10070 [==============================] - 14s 1ms/sample - loss: 0.5216 - mean_absolute_error: 2.3896 - acc: 0.8559 - val_loss: 0.4288 - val_mean_absolute_error: 2.3663 - val_acc: 0.8900\n",
      "Epoch 18/100\n",
      "10070/10070 [==============================] - 14s 1ms/sample - loss: 0.5098 - mean_absolute_error: 2.3896 - acc: 0.8585 - val_loss: 0.4387 - val_mean_absolute_error: 2.3663 - val_acc: 0.8900\n",
      "Epoch 19/100\n",
      "10070/10070 [==============================] - 14s 1ms/sample - loss: 0.5181 - mean_absolute_error: 2.3896 - acc: 0.8579 - val_loss: 0.4337 - val_mean_absolute_error: 2.3663 - val_acc: 0.8872\n",
      "Epoch 20/100\n",
      "10070/10070 [==============================] - 14s 1ms/sample - loss: 0.4966 - mean_absolute_error: 2.3896 - acc: 0.8625 - val_loss: 0.4235 - val_mean_absolute_error: 2.3663 - val_acc: 0.8856\n",
      "Epoch 21/100\n",
      "10070/10070 [==============================] - 14s 1ms/sample - loss: 0.4997 - mean_absolute_error: 2.3896 - acc: 0.8653 - val_loss: 0.4079 - val_mean_absolute_error: 2.3663 - val_acc: 0.8940\n",
      "Epoch 22/100\n",
      "10070/10070 [==============================] - 14s 1ms/sample - loss: 0.4980 - mean_absolute_error: 2.3896 - acc: 0.8638 - val_loss: 0.4218 - val_mean_absolute_error: 2.3663 - val_acc: 0.8856\n",
      "Epoch 23/100\n",
      "10070/10070 [==============================] - 14s 1ms/sample - loss: 0.4939 - mean_absolute_error: 2.3896 - acc: 0.8642 - val_loss: 0.4275 - val_mean_absolute_error: 2.3663 - val_acc: 0.8840\n",
      "Epoch 24/100\n",
      "10070/10070 [==============================] - 14s 1ms/sample - loss: 0.4846 - mean_absolute_error: 2.3896 - acc: 0.8709 - val_loss: 0.4160 - val_mean_absolute_error: 2.3663 - val_acc: 0.8940\n",
      "Epoch 25/100\n",
      "10070/10070 [==============================] - 14s 1ms/sample - loss: 0.4908 - mean_absolute_error: 2.3896 - acc: 0.8689 - val_loss: 0.3903 - val_mean_absolute_error: 2.3663 - val_acc: 0.8928\n",
      "Epoch 26/100\n",
      "10070/10070 [==============================] - 14s 1ms/sample - loss: 0.4882 - mean_absolute_error: 2.3896 - acc: 0.8694 - val_loss: 0.4021 - val_mean_absolute_error: 2.3663 - val_acc: 0.8987\n",
      "Epoch 27/100\n",
      "10070/10070 [==============================] - 14s 1ms/sample - loss: 0.4771 - mean_absolute_error: 2.3896 - acc: 0.8711 - val_loss: 0.4001 - val_mean_absolute_error: 2.3663 - val_acc: 0.8967\n",
      "Epoch 28/100\n",
      "10070/10070 [==============================] - 14s 1ms/sample - loss: 0.4723 - mean_absolute_error: 2.3896 - acc: 0.8741 - val_loss: 0.4120 - val_mean_absolute_error: 2.3663 - val_acc: 0.8864\n",
      "Epoch 29/100\n",
      "10070/10070 [==============================] - 14s 1ms/sample - loss: 0.4643 - mean_absolute_error: 2.3896 - acc: 0.8760 - val_loss: 0.3690 - val_mean_absolute_error: 2.3663 - val_acc: 0.9015\n",
      "Epoch 30/100\n",
      "10070/10070 [==============================] - 14s 1ms/sample - loss: 0.4774 - mean_absolute_error: 2.3896 - acc: 0.8726 - val_loss: 0.3907 - val_mean_absolute_error: 2.3663 - val_acc: 0.8967\n",
      "Epoch 31/100\n",
      "10070/10070 [==============================] - 14s 1ms/sample - loss: 0.4582 - mean_absolute_error: 2.3896 - acc: 0.8748 - val_loss: 0.4121 - val_mean_absolute_error: 2.3663 - val_acc: 0.8824\n",
      "Epoch 32/100\n",
      "10070/10070 [==============================] - 14s 1ms/sample - loss: 0.4562 - mean_absolute_error: 2.3896 - acc: 0.8802 - val_loss: 0.3769 - val_mean_absolute_error: 2.3663 - val_acc: 0.8987\n",
      "Epoch 33/100\n",
      "10070/10070 [==============================] - 14s 1ms/sample - loss: 0.4597 - mean_absolute_error: 2.3896 - acc: 0.8741 - val_loss: 0.3802 - val_mean_absolute_error: 2.3663 - val_acc: 0.9035\n",
      "Epoch 34/100\n",
      "10070/10070 [==============================] - 14s 1ms/sample - loss: 0.4573 - mean_absolute_error: 2.3896 - acc: 0.8752 - val_loss: 0.3858 - val_mean_absolute_error: 2.3663 - val_acc: 0.9011\n",
      "Epoch 35/100\n",
      "10070/10070 [==============================] - 14s 1ms/sample - loss: 0.4613 - mean_absolute_error: 2.3896 - acc: 0.8769 - val_loss: 0.3813 - val_mean_absolute_error: 2.3663 - val_acc: 0.8999\n",
      "Epoch 36/100\n",
      "10070/10070 [==============================] - 14s 1ms/sample - loss: 0.4637 - mean_absolute_error: 2.3896 - acc: 0.8738 - val_loss: 0.3983 - val_mean_absolute_error: 2.3663 - val_acc: 0.8900\n",
      "Epoch 37/100\n",
      "10070/10070 [==============================] - 14s 1ms/sample - loss: 0.4571 - mean_absolute_error: 2.3896 - acc: 0.8731 - val_loss: 0.3742 - val_mean_absolute_error: 2.3663 - val_acc: 0.9003\n",
      "Epoch 38/100\n",
      "10070/10070 [==============================] - 14s 1ms/sample - loss: 0.4589 - mean_absolute_error: 2.3896 - acc: 0.8759 - val_loss: 0.3666 - val_mean_absolute_error: 2.3663 - val_acc: 0.9079\n",
      "Epoch 39/100\n",
      "10070/10070 [==============================] - 14s 1ms/sample - loss: 0.4525 - mean_absolute_error: 2.3896 - acc: 0.8784 - val_loss: 0.3752 - val_mean_absolute_error: 2.3663 - val_acc: 0.9071\n"
     ]
    },
    {
     "name": "stdout",
     "output_type": "stream",
     "text": [
      "Epoch 40/100\n",
      "10070/10070 [==============================] - 14s 1ms/sample - loss: 0.4488 - mean_absolute_error: 2.3896 - acc: 0.8813 - val_loss: 0.3640 - val_mean_absolute_error: 2.3663 - val_acc: 0.9075\n",
      "Epoch 41/100\n",
      "10070/10070 [==============================] - 14s 1ms/sample - loss: 0.4467 - mean_absolute_error: 2.3896 - acc: 0.8836 - val_loss: 0.3663 - val_mean_absolute_error: 2.3663 - val_acc: 0.8971\n",
      "Epoch 42/100\n",
      "10070/10070 [==============================] - 14s 1ms/sample - loss: 0.4469 - mean_absolute_error: 2.3896 - acc: 0.8781 - val_loss: 0.3657 - val_mean_absolute_error: 2.3663 - val_acc: 0.9055\n",
      "Epoch 43/100\n",
      "10070/10070 [==============================] - 14s 1ms/sample - loss: 0.4397 - mean_absolute_error: 2.3896 - acc: 0.8828 - val_loss: 0.3592 - val_mean_absolute_error: 2.3663 - val_acc: 0.9079\n",
      "Epoch 44/100\n",
      "10070/10070 [==============================] - 14s 1ms/sample - loss: 0.4438 - mean_absolute_error: 2.3896 - acc: 0.8787 - val_loss: 0.3924 - val_mean_absolute_error: 2.3663 - val_acc: 0.8952\n",
      "Epoch 45/100\n",
      "10070/10070 [==============================] - 14s 1ms/sample - loss: 0.4470 - mean_absolute_error: 2.3896 - acc: 0.8800 - val_loss: 0.3808 - val_mean_absolute_error: 2.3663 - val_acc: 0.9035\n",
      "Epoch 46/100\n",
      "10070/10070 [==============================] - 14s 1ms/sample - loss: 0.4471 - mean_absolute_error: 2.3896 - acc: 0.8810 - val_loss: 0.3657 - val_mean_absolute_error: 2.3663 - val_acc: 0.9047\n",
      "Epoch 47/100\n",
      "10070/10070 [==============================] - 14s 1ms/sample - loss: 0.4429 - mean_absolute_error: 2.3896 - acc: 0.8841 - val_loss: 0.3669 - val_mean_absolute_error: 2.3663 - val_acc: 0.9075\n",
      "Epoch 48/100\n",
      "10070/10070 [==============================] - 14s 1ms/sample - loss: 0.4414 - mean_absolute_error: 2.3896 - acc: 0.8829 - val_loss: 0.3623 - val_mean_absolute_error: 2.3663 - val_acc: 0.9087\n",
      "Epoch 49/100\n",
      "10070/10070 [==============================] - 14s 1ms/sample - loss: 0.4305 - mean_absolute_error: 2.3896 - acc: 0.8820 - val_loss: 0.3556 - val_mean_absolute_error: 2.3663 - val_acc: 0.9098\n",
      "Epoch 50/100\n",
      "10070/10070 [==============================] - 14s 1ms/sample - loss: 0.4324 - mean_absolute_error: 2.3896 - acc: 0.8830 - val_loss: 0.3627 - val_mean_absolute_error: 2.3663 - val_acc: 0.9023\n",
      "Epoch 51/100\n",
      "10070/10070 [==============================] - 14s 1ms/sample - loss: 0.4326 - mean_absolute_error: 2.3896 - acc: 0.8835 - val_loss: 0.3648 - val_mean_absolute_error: 2.3663 - val_acc: 0.9015\n",
      "Epoch 52/100\n",
      "10070/10070 [==============================] - 14s 1ms/sample - loss: 0.4415 - mean_absolute_error: 2.3896 - acc: 0.8842 - val_loss: 0.3507 - val_mean_absolute_error: 2.3663 - val_acc: 0.9059\n",
      "Epoch 53/100\n",
      "10070/10070 [==============================] - 14s 1ms/sample - loss: 0.4275 - mean_absolute_error: 2.3896 - acc: 0.8841 - val_loss: 0.3416 - val_mean_absolute_error: 2.3663 - val_acc: 0.9158\n",
      "Epoch 54/100\n",
      "10070/10070 [==============================] - 14s 1ms/sample - loss: 0.4229 - mean_absolute_error: 2.3896 - acc: 0.8878 - val_loss: 0.3479 - val_mean_absolute_error: 2.3663 - val_acc: 0.9098\n",
      "Epoch 55/100\n",
      "10070/10070 [==============================] - 14s 1ms/sample - loss: 0.4321 - mean_absolute_error: 2.3896 - acc: 0.8824 - val_loss: 0.3548 - val_mean_absolute_error: 2.3663 - val_acc: 0.9122\n",
      "Epoch 56/100\n",
      "10070/10070 [==============================] - 14s 1ms/sample - loss: 0.4294 - mean_absolute_error: 2.3896 - acc: 0.8872 - val_loss: 0.3470 - val_mean_absolute_error: 2.3663 - val_acc: 0.9150\n",
      "Epoch 57/100\n",
      "10070/10070 [==============================] - 14s 1ms/sample - loss: 0.4174 - mean_absolute_error: 2.3896 - acc: 0.8883 - val_loss: 0.3549 - val_mean_absolute_error: 2.3663 - val_acc: 0.9027\n",
      "Epoch 58/100\n",
      "10070/10070 [==============================] - 14s 1ms/sample - loss: 0.4260 - mean_absolute_error: 2.3896 - acc: 0.8862 - val_loss: 0.3549 - val_mean_absolute_error: 2.3663 - val_acc: 0.9134\n",
      "Epoch 59/100\n",
      "10070/10070 [==============================] - 14s 1ms/sample - loss: 0.4273 - mean_absolute_error: 2.3896 - acc: 0.8857 - val_loss: 0.3479 - val_mean_absolute_error: 2.3663 - val_acc: 0.9178\n",
      "Epoch 60/100\n",
      "10070/10070 [==============================] - 14s 1ms/sample - loss: 0.4171 - mean_absolute_error: 2.3896 - acc: 0.8893 - val_loss: 0.3538 - val_mean_absolute_error: 2.3663 - val_acc: 0.9051\n",
      "Epoch 61/100\n",
      "10070/10070 [==============================] - 14s 1ms/sample - loss: 0.4286 - mean_absolute_error: 2.3896 - acc: 0.8864 - val_loss: 0.3369 - val_mean_absolute_error: 2.3663 - val_acc: 0.9158\n",
      "Epoch 62/100\n",
      "10070/10070 [==============================] - 14s 1ms/sample - loss: 0.4195 - mean_absolute_error: 2.3896 - acc: 0.8892 - val_loss: 0.3597 - val_mean_absolute_error: 2.3663 - val_acc: 0.9039\n",
      "Epoch 63/100\n",
      "10070/10070 [==============================] - 13s 1ms/sample - loss: 0.4195 - mean_absolute_error: 2.3896 - acc: 0.8867 - val_loss: 0.3310 - val_mean_absolute_error: 2.3663 - val_acc: 0.9158\n",
      "Epoch 64/100\n",
      "10070/10070 [==============================] - 13s 1ms/sample - loss: 0.4225 - mean_absolute_error: 2.3896 - acc: 0.8887 - val_loss: 0.3464 - val_mean_absolute_error: 2.3663 - val_acc: 0.9098\n",
      "Epoch 65/100\n",
      "10070/10070 [==============================] - 13s 1ms/sample - loss: 0.4160 - mean_absolute_error: 2.3896 - acc: 0.8943 - val_loss: 0.3411 - val_mean_absolute_error: 2.3663 - val_acc: 0.9198\n",
      "Epoch 66/100\n",
      "10070/10070 [==============================] - 13s 1ms/sample - loss: 0.4148 - mean_absolute_error: 2.3896 - acc: 0.8894 - val_loss: 0.3448 - val_mean_absolute_error: 2.3663 - val_acc: 0.9134\n",
      "Epoch 67/100\n",
      "10070/10070 [==============================] - 13s 1ms/sample - loss: 0.4217 - mean_absolute_error: 2.3896 - acc: 0.8875 - val_loss: 0.3355 - val_mean_absolute_error: 2.3663 - val_acc: 0.9170\n",
      "Epoch 68/100\n",
      "10070/10070 [==============================] - 13s 1ms/sample - loss: 0.4209 - mean_absolute_error: 2.3896 - acc: 0.8879 - val_loss: 0.3456 - val_mean_absolute_error: 2.3663 - val_acc: 0.9122\n",
      "Epoch 69/100\n",
      "10070/10070 [==============================] - 13s 1ms/sample - loss: 0.4129 - mean_absolute_error: 2.3896 - acc: 0.8879 - val_loss: 0.3375 - val_mean_absolute_error: 2.3663 - val_acc: 0.9174\n",
      "Epoch 70/100\n",
      "10070/10070 [==============================] - 14s 1ms/sample - loss: 0.4193 - mean_absolute_error: 2.3896 - acc: 0.8876 - val_loss: 0.3392 - val_mean_absolute_error: 2.3663 - val_acc: 0.9158\n",
      "Epoch 71/100\n",
      "10070/10070 [==============================] - 13s 1ms/sample - loss: 0.4295 - mean_absolute_error: 2.3896 - acc: 0.8881 - val_loss: 0.3353 - val_mean_absolute_error: 2.3663 - val_acc: 0.9174\n",
      "Epoch 72/100\n",
      "10070/10070 [==============================] - 13s 1ms/sample - loss: 0.4159 - mean_absolute_error: 2.3896 - acc: 0.8922 - val_loss: 0.3367 - val_mean_absolute_error: 2.3663 - val_acc: 0.9106\n",
      "Epoch 73/100\n",
      " 7504/10070 [=====================>........] - ETA: 3s - loss: 0.4019 - mean_absolute_error: 2.3820 - acc: 0.8969"
     ]
    }
   ],
   "source": [
    "from sklearn.model_selection import KFold\n",
    "num_folds=5\n",
    "\n",
    "kfold = KFold(n_splits=num_folds, shuffle=True)\n",
    "es = tf.keras.callbacks.EarlyStopping(monitor='val_acc', mode='max', verbose=0.0001, patience=10)\n",
    "\n",
    "fold_no = 1\n",
    "for train, test in kfold.split(inputs, targets):\n",
    "    model = Sequential([\n",
    "    Dense(200, activation='relu', input_shape=(5,), kernel_regularizer=regularizers.l2(0.0001)),\n",
    "    Dropout(0.3),\n",
    "    Dense(4000, kernel_regularizer=regularizers.l2(0.0001),activation='relu'),\n",
    "    Dropout(0.3),\n",
    "    #Dense(4000, kernel_regularizer=regularizers.l2(0.0001),activation='relu'),\n",
    "    #Dropout(0.3),\n",
    "    Dense(4000, kernel_regularizer=regularizers.l2(0.0001),activation='relu'),\n",
    "    Dropout(0.3),\n",
    "    Dense(200, kernel_regularizer=regularizers.l2(0.0001),activation='relu'),\n",
    "    Dropout(0.3),\n",
    "    #Dense(200, kernel_regularizer=regularizers.l2(0.0002),activation='relu'),\n",
    "    #Dropout(0.3),\n",
    "    #Dense(100, kernel_regularizer=regularizers.l2(0.0002),activation='relu'),\n",
    "    #Dropout(0.3),\n",
    "    #Dense(100, kernel_regularizer=regularizers.l2(0.0001),activation='relu'),\n",
    "    #Dropout(0.3),\n",
    "    #Dense(100, kernel_regularizer=regularizers.l2(0.0002),activation='relu'),\n",
    "    #Dropout(0.3),\n",
    "    #Dense(100, kernel_regularizer=regularizers.l2(0.0002),activation='relu'),\n",
    "    #Dropout(0.3),\n",
    "    Dense(6, activation='softmax')\n",
    "    ])\n",
    "    \n",
    "    model.compile(optimizer='adam',\n",
    "               loss=tf.keras.losses.SparseCategoricalCrossentropy(),#loss=tf.keras.losses.SparseCategoricalCrossentropy(from_logits=True),\n",
    "              metrics=['mae','accuracy'])#,keras.metrics.Recall(),keras.metrics.Precision()])\n",
    "    ##historico = model.fit(inputs[train], targets[train],\n",
    "    ##      batch_size=64, epochs=1000,callbacks=[es])\n",
    "    historico= model.fit(inputs[train], targets[train],class_weight=class_weight,shuffle=True,\n",
    "          batch_size=16, epochs=100,\n",
    "          validation_data=(X_val, Y_val),callbacks=[es])\n",
    "    \n",
    "    scores = model.evaluate(inputs[test], targets[test], verbose=0)\n",
    "    print(f'Score for fold {fold_no}: {model.metrics_names[0]} of {scores[0]}; {model.metrics_names[2]} of {scores[2]*100}%')\n",
    "    acc_per_fold.append(scores[2] * 100)\n",
    "    loss_per_fold.append(scores[0])\n",
    "    model.save(\"/tf/tensorflow-tutorials/Modelo_1/Modelo_detecta_caminhada_6_movimentos_v2\", save_format='tf')#(\"/tf/tensorflow-tutorials/Modelo_1/Modelo_detecta_caminhada\", save_format='tf')\n",
    "    load_model = tf.keras.models.load_model(\"/tf/tensorflow-tutorials/Modelo_1/Modelo_detecta_caminhada_6_movimentos_v2\") #('/tf/tensorflow-tutorials/Wyctor/Modelo_detecta_caminhada')\n",
    "    y_pred = load_model.predict(X_test)  #cross_val_predict(model, X_train, Y_train, cv = cv)\n",
    "#print(y_pred)\n",
    "    y_pred=(np.around(y_pred))\n",
    "#print(y_pred)\n",
    "    y_Pred=[]\n",
    "    for i in range(0,len(y_pred)):\n",
    "        #print(np.argmax(y_pred[i]))\n",
    "        y_Pred.append(np.argmax(y_pred[i]))\n",
    "    print(classification_report(Y_test,y_Pred,digits=5))\n",
    "    ROC_E_AUC(y_Pred,Y_test)\n",
    "    fold_no = fold_no + 1\n"
   ]
  },
  {
   "cell_type": "code",
   "execution_count": null,
   "metadata": {},
   "outputs": [],
   "source": [
    "y_pred = load_model.predict(X_val)  #cross_val_predict(model, X_train, Y_train, cv = cv)\n",
    "#print(y_pred)\n",
    "y_pred=(np.around(y_pred))\n",
    "#print(y_pred)\n",
    "\n",
    "y_Pred=[]\n",
    "for i in range(0,len(y_pred)):\n",
    "    #print(np.argmax(y_pred[i]))\n",
    "    y_Pred.append(np.argmax(y_pred[i]))"
   ]
  },
  {
   "cell_type": "code",
   "execution_count": null,
   "metadata": {
    "scrolled": false
   },
   "outputs": [],
   "source": [
    "\n",
    "print(classification_report(Y_val,y_Pred,digits=5, target_names=CATEGORIAS))\n"
   ]
  },
  {
   "cell_type": "code",
   "execution_count": null,
   "metadata": {
    "scrolled": true
   },
   "outputs": [],
   "source": [
    "#X_normalizado.shape"
   ]
  },
  {
   "cell_type": "code",
   "execution_count": null,
   "metadata": {},
   "outputs": [],
   "source": [
    "# == Provide average scores ==\n",
    "print('------------------------------------------------------------------------')\n",
    "print('Score per fold')\n",
    "for i in range(0, len(acc_per_fold)):\n",
    "    print('------------------------------------------------------------------------')\n",
    "    print(f'> Fold {i+1} - Loss: {loss_per_fold[i]} - Accuracy: {acc_per_fold[i]}%')\n",
    "print('------------------------------------------------------------------------')\n",
    "print('Average scores for all folds:')\n",
    "print(f'> Accuracy: {np.mean(acc_per_fold)} (+- {np.std(acc_per_fold)})')\n",
    "print(f'> Loss: {np.mean(loss_per_fold)}')\n",
    "print('------------------------------------------------------------------------')"
   ]
  },
  {
   "cell_type": "code",
   "execution_count": null,
   "metadata": {},
   "outputs": [],
   "source": [
    "model.save(\"/tf/tensorflow-tutorials/Modelo_1/Modelo_detecta_caminhada_6_movimentos_v2\", save_format='tf')#(\"/tf/tensorflow-tutorials/Modelo_1/Modelo_detecta_caminhada\", save_format='tf')"
   ]
  },
  {
   "cell_type": "code",
   "execution_count": null,
   "metadata": {},
   "outputs": [],
   "source": [
    "load_model = tf.keras.models.load_model(\"/tf/tensorflow-tutorials/Modelo_1/Modelo_detecta_caminhada_6_movimentos_v2\") #('/tf/tensorflow-tutorials/Wyctor/Modelo_detecta_caminhada')\n"
   ]
  },
  {
   "cell_type": "code",
   "execution_count": null,
   "metadata": {},
   "outputs": [],
   "source": [
    "import matplotlib.pyplot as plt\n",
    "import numpy as np\n",
    "\n",
    "y_pred = load_model.predict(X_test)  #cross_val_predict(model, X_train, Y_train, cv = cv)\n",
    "#print(y_pred)\n",
    "y_pred=(np.around(y_pred))\n",
    "#print(y_pred)\n",
    "\n",
    "y_Pred=[]\n",
    "for i in range(0,len(y_pred)):\n",
    "    #print(np.argmax(y_pred[i]))\n",
    "    y_Pred.append(np.argmax(y_pred[i]))\n",
    "#print(y_Pred)"
   ]
  },
  {
   "cell_type": "code",
   "execution_count": null,
   "metadata": {},
   "outputs": [],
   "source": [
    "# Plot normalized confusion matrix\n",
    "\n",
    "\n",
    "# Compute confusion matrix\n",
    "cnf_matrix = confusion_matrix(Y_test, y_Pred)\n",
    "np.set_printoptions(precision=2)\n",
    "\n",
    "plt.figure()\n",
    "plot_confusion_matrix(cnf_matrix, classes=CATEGORIAS, normalize=True,\n",
    "                      title='Normalized confusion matrix - CROSS VALIDATION - FOLD 5- RGB - 8 CICLOS-70_30')\n",
    "plt.savefig(\"Matrix Confusao Normalizada CROSS VALIDATION - FOLD 5'.png\")\n",
    "plt.show()"
   ]
  },
  {
   "cell_type": "code",
   "execution_count": null,
   "metadata": {},
   "outputs": [],
   "source": [
    "Average_Precision_Recall(Y_test,y_Pred)"
   ]
  },
  {
   "cell_type": "code",
   "execution_count": null,
   "metadata": {},
   "outputs": [],
   "source": [
    "##TERMINEI DE USAR O CROSS VALIDATION##"
   ]
  },
  {
   "cell_type": "code",
   "execution_count": null,
   "metadata": {
    "scrolled": true
   },
   "outputs": [],
   "source": [
    "data_validation=pd.read_csv('Parâmetros_de_todos_para_validacao.csv') #('/tf/tensorflow-tutorials/Modelo_1/Parâmetros_de_todos_para_validacao.csv')\n"
   ]
  },
  {
   "cell_type": "code",
   "execution_count": null,
   "metadata": {
    "scrolled": true
   },
   "outputs": [],
   "source": [
    "data_validation"
   ]
  },
  {
   "cell_type": "code",
   "execution_count": null,
   "metadata": {},
   "outputs": [],
   "source": [
    "dataset_validation=data_validation[['Velocidade média (m/s)','Comprimento médio passada','Largura da passada','Simetria do comprimento de passo','Cadência','Movimento']]"
   ]
  },
  {
   "cell_type": "code",
   "execution_count": null,
   "metadata": {
    "scrolled": true
   },
   "outputs": [],
   "source": [
    "dataset_validation"
   ]
  },
  {
   "cell_type": "code",
   "execution_count": null,
   "metadata": {},
   "outputs": [],
   "source": [
    "datasheet_validation=dataset_validation.values"
   ]
  },
  {
   "cell_type": "code",
   "execution_count": null,
   "metadata": {},
   "outputs": [],
   "source": [
    "valores_linhas_validation=datasheet_validation[:,0:5]"
   ]
  },
  {
   "cell_type": "code",
   "execution_count": null,
   "metadata": {},
   "outputs": [],
   "source": [
    "X_normalizado_validacao=min_max_escalar.fit_transform(valores_linhas_validation)"
   ]
  },
  {
   "cell_type": "code",
   "execution_count": null,
   "metadata": {
    "scrolled": true
   },
   "outputs": [],
   "source": [
    "X_normalizado_validacao"
   ]
  },
  {
   "cell_type": "code",
   "execution_count": null,
   "metadata": {},
   "outputs": [],
   "source": [
    "import numpy as np"
   ]
  },
  {
   "cell_type": "code",
   "execution_count": null,
   "metadata": {
    "scrolled": true
   },
   "outputs": [],
   "source": [
    "CATEGORIAS=[\"Time Up and Go\",\"Em círculos\", \"Marcha em linha reta\", \"Elevação excessiva do calcanhar\",\" Assimetria de passo\", \"Circundação do pé\"]\n",
    "\n",
    "for line in range(0,len(X_normalizado_validacao)):\n",
    "    #print(X_normalizado_validacao[line])\n",
    "    teste = X_normalizado_validacao[line].reshape([1,5])\n",
    "    print(teste)\n",
    "    prediction=load_model.predict(teste)\n",
    "    print(prediction)\n",
    "    prediction=(np.around(prediction).reshape([1,6]))\n",
    "    print(prediction)\n",
    "    print(CATEGORIAS[(np.argmax(prediction))])"
   ]
  },
  {
   "cell_type": "code",
   "execution_count": null,
   "metadata": {},
   "outputs": [],
   "source": [
    "teste = [1.05364409,  0.88002339, 0.20362799,  0.80318584, 19.08771569] #X_normalizado_validacao[line].reshape([1,5])\n",
    "teste=np.array(teste)\n",
    "print(teste)\n"
   ]
  }
 ],
 "metadata": {
  "kernelspec": {
   "display_name": "Python 3",
   "language": "python",
   "name": "python3"
  },
  "language_info": {
   "codemirror_mode": {
    "name": "ipython",
    "version": 3
   },
   "file_extension": ".py",
   "mimetype": "text/x-python",
   "name": "python",
   "nbconvert_exporter": "python",
   "pygments_lexer": "ipython3",
   "version": "3.6.9"
  }
 },
 "nbformat": 4,
 "nbformat_minor": 2
}
